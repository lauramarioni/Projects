{
 "cells": [
  {
   "cell_type": "code",
   "execution_count": 5,
   "metadata": {},
   "outputs": [
    {
     "data": {
      "text/html": [
       "<script>\n",
       "code_show=true; \n",
       "function code_toggle() {\n",
       " if (code_show){\n",
       " $('div.input').hide();\n",
       " } else {\n",
       " $('div.input').show();\n",
       " }\n",
       " code_show = !code_show\n",
       "} \n",
       "$( document ).ready(code_toggle);\n",
       "</script>\n",
       "<form action=\"javascript:code_toggle()\"><input type=\"submit\" value=\"Click here to toggle on/off the raw code.\"></form>"
      ],
      "text/plain": [
       "<IPython.core.display.HTML object>"
      ]
     },
     "execution_count": 5,
     "metadata": {},
     "output_type": "execute_result"
    }
   ],
   "source": [
    "from IPython.display import HTML\n",
    "HTML('''<script>\n",
    "code_show=true; \n",
    "function code_toggle() {\n",
    " if (code_show){\n",
    " $('div.input').hide();\n",
    " } else {\n",
    " $('div.input').show();\n",
    " }\n",
    " code_show = !code_show\n",
    "} \n",
    "$( document ).ready(code_toggle);\n",
    "</script>\n",
    "<form action=\"javascript:code_toggle()\"><input type=\"submit\" value=\"Click here to toggle on/off the raw code.\"></form>''')"
   ]
  },
  {
   "cell_type": "markdown",
   "metadata": {},
   "source": [
    " # 1.INTRODUCTION\n",
    "\n",
    "# 1.1 Problem description\n",
    "\n",
    "Drug consumption data analysis has been of great focus in recent years, due to the critical increase levels of drug consumption of licit and  illicit drugs. This increase  sometimes is  attributed to  the lack of  knowledge of drug consumption hazards, especially among adolescents. Analyzing  drug consumption data will enable us to identify the number of drugs consumed, the drugs that are consumed together, and the period of such consumption. Thus, it will open the doors for a better level of awareness and predictive models that will be of significant advantage in formulating proper treatment plans to reduce the drug consumption. Drug consumption data is usually composed of a set of patients features and a set of associated drugs. So, each patient might be using various drugs. For this reason, single label classification is not sufficient for capturing all trends and building an adequate  predictive model.\\\n",
    "In this paper, a drug consumption data set from a survey, containing records for 1885 respondents, about their attributes, which include the five-factor model traits, impulsivity, sensation seeking, and other demographic characteristics, and central nervous system psychoactive drugs consumption history (18 drugs) was analyzed and used to develop a predictive model. Personality traits are believed to have a strong relationship with drug consumption level.\n",
    "This model was developed using multi-label classification. The targeted drugs classes (originally, seven classes) were transformed into two classes: user and nonuser.\\\n",
    "Our ultimate goal is to use this model for evaluating the future risk of a patient to be a drug consumer and what are the potentially used types of drug.\n",
    "\n",
    "# 1.2 Dataset description\n",
    "\n",
    "The following data are taken from Drug consumption (quantified) Data Set in http://archive.ics.uci.edu/ml/datasets. Database contains records for 1885 respondents.\\\n",
    "The attributes given are the following:\n",
    "<ul>\n",
    "<li><strong>ID</strong>: ID is number of record in original database. </li>\n",
    "<li><strong>Age</strong>: Age is the age of participant and has one of the values (18-24, 25-34, 35-44, 45-54, 55-64, 65+)</li>\n",
    "<li><strong>Gender</strong>: Gender is gender of participant (female, male)</li>\n",
    "<li><strong>Education</strong>: Education is level of education of participant and has one of the values (Left School Before 16 years, Left school at 16 years, Left school at 17 years, Left school at 18 years, Some college or no certificate or degree, Professional certificate/ diploma, University degree, Master degree, Doctorate degree)</li>\n",
    "<li><strong>Country</strong>: Country is country of current residence of participant and has one of the values (Australia, Canada,New Zealand, Other, Republic of Ireland, UK, USA)</li>\n",
    "<li><strong>Ethnicity</strong>: Ethnicity is ethnicity of participant and has one of the values (Asian, Black, Mixed-Black/Asian, Mixed-White/Asian, Mixed-White/Black, Other, White)</li>\n",
    "<li><strong>Nscore</strong>: Nscore is NEO-FFI-R Neuroticism. Neuroticism is one of the Big Five higher-order personality traits in the study of psychology. Individuals who score high on neuroticism are more likely than average to be moody and to experience such feelings as anxiety, worry, fear, anger, frustration, envy, jealousy, guilt, depressed mood, and loneliness.</li>\n",
    "<li><strong>EScore</strong>: Escore (Real) is NEO-FFI-R Extraversion. Extraversion is one of the five personality traits of the Big Five personality theory. It indicates how outgoing and social a person is. A person who scores high in extraversion on a personality test is the life of the party. They enjoy being with people, participating in social gatherings, and are full of energy.</li>\n",
    "<li><strong>Oscore</strong>: Oscore (Real) is NEO-FFI-R Openness to experience. It indicates how open-minded a person is. A person with a high level of openness to experience in a personality test enjoys trying new things. They are imaginative, curious, and open-minded. Individuals who are low in openness to experience would rather not try new things. They are close-minded, literal and enjoy having a routine.</li>\n",
    "<li><strong>Ascore</strong>: Ascore(Real) is NEO-FFI-R Agreeableness. A person with a high level of agreeableness in a personality test is usually warm, friendly, and tactful. They generally have an optimistic view of human nature and get along well with others.</li>\n",
    "<li><strong>Cscore</strong>: Cscore (Real) is NEO-FFI-R Conscientiousness. A person scoring high in conscientiousness usually has a high level of self-discipline. These individuals prefer to follow a plan, rather than act spontaneously. Their methodic planning and perseverance usually makes them highly successful in their chosen occupation.</li>\n",
    "<li><strong>Impulsive</strong>: Impulsive (Real) is Impulsiveness measured by BIS-11. In psychology, impulsivity (or impulsiveness) is a tendency to act on a whim, displaying behavior characterized by little or no forethought, reflection, or consideration of the consequences.</li>\n",
    "<li><strong>SS</strong>: SS(Real) is Sensation Seeking measured by ImpSS. Sensation is input about the physical world obtained by our sensory receptors, and perception is the process by which the brain selects, organizes, and interprets these sensations.</li>\n",
    "\n",
    "Moreover there are 18 legal and illegal drugs: <strong>alcohol, amphetamines, amyl nitrite, benzodiazepine, cannabis, chocolate, cocaine, caffeine, crack, ecstasy, heroin, ketamine, legal highs, LSD, methadone, mushrooms, nicotine and volatile substance abuse and one fictitious drug (Semeron)</strong>. There are seven possible classes that the respondents answers for each drug might belong to. The classes are never used (CL0), used over a decade ago (CL1), used in last decade (CL2), used in last year (CL3), used in last month (CL4), used in last week (CL5), and used in last day (CL6). \n"
   ]
  },
  {
   "cell_type": "code",
   "execution_count": 6,
   "metadata": {},
   "outputs": [
    {
     "ename": "ModuleNotFoundError",
     "evalue": "No module named 'chart_studio'",
     "output_type": "error",
     "traceback": [
      "\u001b[0;31m---------------------------------------------------------------------------\u001b[0m",
      "\u001b[0;31mModuleNotFoundError\u001b[0m                       Traceback (most recent call last)",
      "\u001b[0;32m<ipython-input-6-68f2c2b0ea44>\u001b[0m in \u001b[0;36m<module>\u001b[0;34m\u001b[0m\n\u001b[1;32m     11\u001b[0m \u001b[0;32mimport\u001b[0m \u001b[0mplotly\u001b[0m\u001b[0;34m.\u001b[0m\u001b[0mfigure_factory\u001b[0m \u001b[0;32mas\u001b[0m \u001b[0mff\u001b[0m\u001b[0;34m\u001b[0m\u001b[0;34m\u001b[0m\u001b[0m\n\u001b[1;32m     12\u001b[0m \u001b[0;31m#import chart_studio.plotly as py\u001b[0m\u001b[0;34m\u001b[0m\u001b[0;34m\u001b[0m\u001b[0;34m\u001b[0m\u001b[0m\n\u001b[0;32m---> 13\u001b[0;31m \u001b[0;32mfrom\u001b[0m \u001b[0mchart_studio\u001b[0m\u001b[0;34m.\u001b[0m\u001b[0mplotly\u001b[0m \u001b[0;32mimport\u001b[0m \u001b[0miplot\u001b[0m\u001b[0;34m\u001b[0m\u001b[0;34m\u001b[0m\u001b[0m\n\u001b[0m\u001b[1;32m     14\u001b[0m \u001b[0;32mfrom\u001b[0m \u001b[0mplotly\u001b[0m\u001b[0;34m.\u001b[0m\u001b[0moffline\u001b[0m \u001b[0;32mimport\u001b[0m \u001b[0mdownload_plotlyjs\u001b[0m\u001b[0;34m,\u001b[0m \u001b[0minit_notebook_mode\u001b[0m\u001b[0;34m,\u001b[0m \u001b[0mplot\u001b[0m\u001b[0;34m,\u001b[0m \u001b[0miplot\u001b[0m\u001b[0;34m\u001b[0m\u001b[0;34m\u001b[0m\u001b[0m\n\u001b[1;32m     15\u001b[0m \u001b[0;34m\u001b[0m\u001b[0m\n",
      "\u001b[0;31mModuleNotFoundError\u001b[0m: No module named 'chart_studio'"
     ]
    }
   ],
   "source": [
    "import pandas as pd\n",
    "%matplotlib inline\n",
    "from matplotlib import pyplot\n",
    "import matplotlib.pyplot as plt\n",
    "import numpy as np#, float\n",
    "import seaborn as sn\n",
    "import plotly\n",
    "import plotly.graph_objects as go\n",
    "import plotly.express as px\n",
    "import plotly.graph_objs as go\n",
    "import plotly.figure_factory as ff\n",
    "import chart_studio.plotly as py\n",
    "from chart_studio.plotly import iplot\n",
    "from plotly.offline import download_plotlyjs, init_notebook_mode, plot, iplot\n",
    "\n",
    "import statsmodels.api as sm\n",
    "import statsmodels.formula.api as smf\n",
    "from statsmodels.sandbox.regression.predstd import wls_prediction_std\n",
    "from statsmodels.formula.api import ols\n",
    "\n",
    "from sklearn import datasets, linear_model, metrics, svm\n",
    "from sklearn.cluster import KMeans, DBSCAN, AgglomerativeClustering\n",
    "from sklearn.metrics import silhouette_score, adjusted_rand_score, mean_squared_error, r2_score, roc_curve, roc_auc_score\n",
    "from sklearn.metrics import accuracy_score, precision_recall_fscore_support, confusion_matrix, precision_recall_curve\n",
    "from sklearn.metrics import classification_report, auc,precision_score,recall_score, f1_score\n",
    "from sklearn.tree                   import DecisionTreeClassifier\n",
    "from sklearn.neighbors              import KNeighborsClassifier\n",
    "from sklearn.discriminant_analysis  import LinearDiscriminantAnalysis\n",
    "from sklearn.naive_bayes            import GaussianNB\n",
    "from sklearn.svm                    import SVC\n",
    "from sklearn.linear_model import LinearRegression, LogisticRegression, SGDRegressor\n",
    "from sklearn.model_selection import train_test_split, StratifiedKFold, GridSearchCV,  train_test_split, KFold,  learning_curve, ShuffleSplit\n",
    "from sklearn.decomposition import PCA\n",
    "from sklearn.preprocessing import LabelEncoder, StandardScaler,scale\n",
    "from sklearn.ensemble import RandomForestClassifier\n",
    "from sklearn.cluster import KMeans\n",
    "from sklearn.datasets import load_digits\n",
    "\n",
    "\n",
    "import cufflinks as cf\n",
    "init_notebook_mode(connected=True)\n",
    "cf.go_offline()\n",
    "\n",
    "from imblearn.over_sampling import SMOTE\n",
    "from imblearn.pipeline import  Pipeline#, make_pipeline\n",
    "\n",
    "from scipy.cluster import hierarchy as hc\n",
    "from scipy.stats import norm\n",
    "\n",
    "SEED=5\n",
    "colors = plotly.colors.DEFAULT_PLOTLY_COLORS\n"
   ]
  },
  {
   "cell_type": "markdown",
   "metadata": {},
   "source": [
    "We read the csv file containing our data, we store them in a local dataframe and we extrapolate its main characteristics:"
   ]
  },
  {
   "cell_type": "code",
   "execution_count": null,
   "metadata": {
    "scrolled": true
   },
   "outputs": [],
   "source": [
    "# load the dataset\n",
    "df = pd.read_csv(r'~/Desktop/data spaces/drug_consumption_2.csv')\n",
    "print(\"The dataset has %d rows and %d columns.\" % df.shape)"
   ]
  },
  {
   "cell_type": "code",
   "execution_count": null,
   "metadata": {
    "scrolled": true
   },
   "outputs": [],
   "source": [
    "# check for null values in the dataset\n",
    "print(\"There are \" + (\"some\" if df.isnull().values.any() else \"no\")  + \" null/missing values in the dataset.\")"
   ]
  },
  {
   "cell_type": "markdown",
   "metadata": {},
   "source": [
    "An example of the structure is given below:"
   ]
  },
  {
   "cell_type": "code",
   "execution_count": null,
   "metadata": {
    "scrolled": true
   },
   "outputs": [],
   "source": [
    "df.head()"
   ]
  },
  {
   "cell_type": "markdown",
   "metadata": {},
   "source": [
    "The data does not contain any missing values. Let's check the form of our variables:"
   ]
  },
  {
   "cell_type": "code",
   "execution_count": null,
   "metadata": {
    "scrolled": false
   },
   "outputs": [],
   "source": [
    "df.dtypes"
   ]
  },
  {
   "cell_type": "markdown",
   "metadata": {},
   "source": [
    "We need to preprocess our data in order to transform our classes into two classes (users and nonusers). "
   ]
  },
  {
   "cell_type": "markdown",
   "metadata": {},
   "source": [
    "# 1.3 Preprocessing"
   ]
  },
  {
   "cell_type": "markdown",
   "metadata": {},
   "source": [
    "In our study, the classes from Alcohol to VSA are transformed into two classes: nonusers(0) and users(1). The categories of CL0, CL1 and CL2 are merged to form the nonuser class, and the other categories were placed into the user class."
   ]
  },
  {
   "cell_type": "code",
   "execution_count": null,
   "metadata": {
    "scrolled": true
   },
   "outputs": [],
   "source": [
    "def pre_df(df):   \n",
    "    df= [s.replace(\"CL0\", \"0\") for s in df]\n",
    "    df= [s.replace(\"CL1\", \"0\") for s in df]\n",
    "    df= [s.replace(\"CL2\", \"0\") for s in df]\n",
    "    df= [s.replace(\"CL3\", \"1\") for s in df]\n",
    "    df= [s.replace(\"CL4\", \"1\") for s in df]\n",
    "    df= [s.replace(\"CL5\", \"1\") for s in df]\n",
    "    df= [s.replace(\"CL6\", \"1\") for s in df]\n",
    "    return df\n"
   ]
  },
  {
   "cell_type": "code",
   "execution_count": null,
   "metadata": {
    "scrolled": true
   },
   "outputs": [],
   "source": [
    "df.Cannabis=pre_df(df.Cannabis)\n",
    "df.Alcohol=pre_df(df.Alcohol)\n",
    "df.Amphet=pre_df(df.Amphet)\n",
    "df.Coke=pre_df(df.Coke)\n",
    "df.Ecstasy=pre_df(df.Ecstasy)\n",
    "df.VSA=pre_df(df.VSA)\n",
    "df.Heroin=pre_df(df.Heroin)\n",
    "df.Caff=pre_df(df.Caff)\n",
    "df.Choc=pre_df(df.Choc)\n",
    "df.Nicotine=pre_df(df.Nicotine)\n",
    "df.Amyl=pre_df(df.Amyl)\n",
    "df.Legalh=pre_df(df.Legalh)\n",
    "df.Benzos=pre_df(df.Benzos)\n",
    "df.Crack=pre_df(df.Crack)\n",
    "df.Ketamine=pre_df(df.Ketamine)\n",
    "df.Legalh=pre_df(df.Legalh)\n",
    "df.LSD=pre_df(df.LSD)\n",
    "df.Meth=pre_df(df.Meth)\n",
    "df.Mushrooms=pre_df(df.Mushrooms)\n",
    "df.Semer=pre_df(df.Semer)"
   ]
  },
  {
   "cell_type": "markdown",
   "metadata": {},
   "source": [
    "We want to see the frequency of users for each addictive substance in order to remove the drugs that are not relavant."
   ]
  },
  {
   "cell_type": "code",
   "execution_count": null,
   "metadata": {
    "scrolled": true
   },
   "outputs": [],
   "source": [
    "def percent(df):  \n",
    "    #perc = df.sum() * 100 / df.shape[0]\n",
    "    user = df[df=='1'].count()\n",
    "    perc = user *100 / df.count()\n",
    "    return perc"
   ]
  },
  {
   "cell_type": "code",
   "execution_count": null,
   "metadata": {
    "scrolled": true
   },
   "outputs": [],
   "source": [
    "print(\"Alcohol consumer percentage is %.3f%%.\" % percent(df.Alcohol))\n",
    "print(\"Amphet consumer percentage is %.3f%%.\" % percent(df.Amphet))\n",
    "print(\"Amyl consumer percentage is %.3f%%.\" % percent(df.Amyl))\n",
    "print(\"Benzos consumer percentage is %.3f%%.\" % percent(df.Benzos))\n",
    "print(\"Caff consumer percentage is %.3f%%.\" % percent(df.Caff))\n",
    "print(\"Cannabis consumer percentage is %.3f%%.\" % percent(df.Cannabis))\n",
    "print(\"Choc consumer percentage is %.3f%%.\" % percent(df.Choc))\n",
    "print(\"Coke consumer percentage is %.3f%%.\" % percent(df.Coke))\n",
    "print(\"Crack consumer percentage is %.3f%%.\" % percent(df.Crack))\n",
    "print(\"Ecstasy consumer percentage is %.3f%%.\" % percent(df.Ecstasy))\n",
    "print(\"Heroin consumer percentage is %.3f%%.\" % percent(df.Heroin))\n",
    "print(\"Ketamine consumer percentage is %.3f%%.\" % percent(df.Ketamine))\n",
    "print(\"Legalh consumer percentage is %.3f%%.\" % percent(df.Legalh))\n",
    "print(\"LSD consumer percentage is %.3f%%.\" % percent(df.LSD))\n",
    "print(\"Meth consumer percentage is %.3f%%.\" % percent(df.Meth))\n",
    "print(\"Mushrooms consumer percentage is %.3f%%.\" % percent(df.Mushrooms))\n",
    "print(\"Nicotine consumer percentage is %.3f%%.\" % percent(df.Nicotine))\n",
    "print(\"Semer consumer percentage is %.3f%%.\" % percent(df.Semer))\n",
    "print(\"VSA consumer percentage is %.3f%%.\" % percent(df.VSA))"
   ]
  },
  {
   "cell_type": "markdown",
   "metadata": {},
   "source": [
    "Now we can remove the variables whose percentage of users is less than 20%.\\\n",
    "Moreover the \"Id\" column is deleted because it cannot be related to participant. "
   ]
  },
  {
   "cell_type": "code",
   "execution_count": null,
   "metadata": {
    "scrolled": true
   },
   "outputs": [],
   "source": [
    "df=df.drop(columns=['ID','Amyl','Crack','Heroin','Ketamine','Meth','Semer','VSA'])  "
   ]
  },
  {
   "cell_type": "markdown",
   "metadata": {},
   "source": [
    "We want to convert the arguments to a numeric type in order to do a binary classification."
   ]
  },
  {
   "cell_type": "code",
   "execution_count": null,
   "metadata": {
    "scrolled": true
   },
   "outputs": [],
   "source": [
    "df.Choc=pd.to_numeric(df.Choc, errors='coerce')\n",
    "df.Alcohol=pd.to_numeric(df.Alcohol, errors='coerce')\n",
    "df.Caff=pd.to_numeric(df.Caff, errors='coerce')\n",
    "df.Coke=pd.to_numeric(df.Coke, errors='coerce')\n",
    "df.Ecstasy=pd.to_numeric(df.Ecstasy, errors='coerce')\n",
    "df.Cannabis=pd.to_numeric(df.Cannabis, errors='coerce')\n",
    "df.Legalh=pd.to_numeric(df.Legalh, errors='coerce')\n",
    "df.Nicotine=pd.to_numeric(df.Nicotine, errors='coerce')\n",
    "df.Benzos=pd.to_numeric(df.Benzos, errors='coerce')\n",
    "df.Amphet=pd.to_numeric(df.Amphet, errors='coerce')\n",
    "df.LSD=pd.to_numeric(df.LSD, errors='coerce')\n",
    "df.Mushrooms=pd.to_numeric(df.Mushrooms, errors='coerce')"
   ]
  },
  {
   "cell_type": "code",
   "execution_count": null,
   "metadata": {
    "scrolled": false
   },
   "outputs": [],
   "source": [
    "df.head()"
   ]
  },
  {
   "cell_type": "code",
   "execution_count": null,
   "metadata": {
    "scrolled": false
   },
   "outputs": [],
   "source": [
    "df.dtypes"
   ]
  },
  {
   "cell_type": "markdown",
   "metadata": {},
   "source": [
    "Statistical overview of the data\n",
    "\n",
    "The following statistical measures can be seen for each column using the describe-function of DataFrame of the pandas library:\n",
    "<ul>\n",
    "<li><strong>count</strong>: number of samples</li>\n",
    "<li><strong>mean</strong>: the mean of this attribute among all samples</li>\n",
    "<li><strong>std</strong>: the standard deviation of this attribute</li>\n",
    "<li><strong>min</strong>: the minimal value of this attribute</li>\n",
    "<li><strong>25%</strong>: the lower percentile</li>\n",
    "<li><strong>50%</strong>: the median</li>\n",
    "<li><strong>75%</strong>: the upper percentile</li>\n",
    "<li><strong>max</strong>: the maximal value of this attribute</li>"
   ]
  },
  {
   "cell_type": "code",
   "execution_count": null,
   "metadata": {},
   "outputs": [],
   "source": [
    "df.describe()"
   ]
  },
  {
   "cell_type": "markdown",
   "metadata": {},
   "source": [
    "The psycological factors, the impulsivity and the sensation seeking are given standardized.\n",
    "\n",
    "These numbers are hard to interpret in this format.\n",
    "\n"
   ]
  },
  {
   "cell_type": "code",
   "execution_count": null,
   "metadata": {
    "scrolled": true
   },
   "outputs": [],
   "source": [
    "sub_df=df[[\"Nscore\", \"Escore\",\"Oscore\",\"Ascore\",\"Cscore\",\"Impulsive\",\"SS\"]]"
   ]
  },
  {
   "cell_type": "code",
   "execution_count": null,
   "metadata": {
    "scrolled": true
   },
   "outputs": [],
   "source": [
    "sub2_df=df[['Alcohol','Amphet', 'Benzos', 'Caff', 'Cannabis', 'Choc', 'Coke', 'Ecstasy',\n",
    "       'Legalh', 'LSD', 'Mushrooms', 'Nicotine']]"
   ]
  },
  {
   "cell_type": "markdown",
   "metadata": {},
   "source": [
    "# 2 DATA ANALYSIS"
   ]
  },
  {
   "cell_type": "markdown",
   "metadata": {},
   "source": [
    "First of all we look at the distribution of the our target variable:"
   ]
  },
  {
   "cell_type": "code",
   "execution_count": null,
   "metadata": {
    "scrolled": false
   },
   "outputs": [],
   "source": [
    "data=[go.Bar(x=df[\"Cannabis\"].value_counts().index,\n",
    "            y=df[\"Cannabis\"].value_counts().values)]\n",
    "layout = go.Layout(\n",
    "    autosize=False,\n",
    "    width=500,\n",
    "    height=400,\n",
    "    xaxis=dict(\n",
    "        title='Cannabis'),\n",
    "    yaxis=dict(\n",
    "        title='#samples'\n",
    "    ))\n",
    "\n",
    "fig = go.Figure(data=data, layout=layout)\n",
    "fig"
   ]
  },
  {
   "cell_type": "code",
   "execution_count": null,
   "metadata": {
    "scrolled": true
   },
   "outputs": [],
   "source": [
    "cannabis_perc = df[\"Cannabis\"].sum() * 100 / df[\"Cannabis\"].shape[0]\n",
    "print(\"Cannabis percentage is %.3f%%.\" % cannabis_perc)"
   ]
  },
  {
   "cell_type": "markdown",
   "metadata": {},
   "source": [
    "# 2.1 Risk factor"
   ]
  },
  {
   "cell_type": "markdown",
   "metadata": {},
   "source": [
    "We start now with the analysis of risk factors. We would like to see if there exist some relationship between the use of cannabis and the others attributes.\\\n",
    "First of all we consider the age of our partecipant."
   ]
  },
  {
   "cell_type": "code",
   "execution_count": null,
   "metadata": {
    "scrolled": false
   },
   "outputs": [],
   "source": [
    "data=[go.Bar(x=df[\"Age\"].value_counts().index,\n",
    "            y=df[\"Age\"].value_counts().values)]\n",
    "layout = go.Layout(\n",
    "    autosize=False,\n",
    "    width=500,\n",
    "    height=400,\n",
    "    xaxis=dict(\n",
    "        title='Age range'),\n",
    "    yaxis=dict(\n",
    "        title='#samples'\n",
    "    ))\n",
    "\n",
    "fig = go.Figure(data=data, layout=layout)\n",
    "fig"
   ]
  },
  {
   "cell_type": "markdown",
   "metadata": {},
   "source": [
    "We can see that the number of partecipants isn't the same for each age range. So now we want to observe, for each age range, how many people are users."
   ]
  },
  {
   "cell_type": "code",
   "execution_count": null,
   "metadata": {
    "scrolled": true
   },
   "outputs": [],
   "source": [
    "age_cannabis_df = df.groupby([\"Age\", \"Cannabis\"]).size().unstack()\n",
    "print(age_cannabis_df)"
   ]
  },
  {
   "cell_type": "markdown",
   "metadata": {},
   "source": [
    "Now we plot these results in the histogram below."
   ]
  },
  {
   "cell_type": "code",
   "execution_count": null,
   "metadata": {
    "scrolled": false
   },
   "outputs": [],
   "source": [
    "fig1=go.Figure(data=[\n",
    "    go.Bar( x=age_cannabis_df.index, y=age_cannabis_df[0]),\n",
    "    go.Bar( x=age_cannabis_df.index, y=age_cannabis_df[1])])\n",
    "fig1.show()"
   ]
  },
  {
   "cell_type": "markdown",
   "metadata": {},
   "source": [
    "The proportion of cannabis users decreases with increasing age range. In fact, the sample taken in the age range '18-24' is mainly composed by consumers, in contrast with all the others age ranges, where the number of non users is greater than the number of users."
   ]
  },
  {
   "cell_type": "markdown",
   "metadata": {},
   "source": [
    "We can analyze the relationship between the sex of the people and their consume of cannabis in the same way."
   ]
  },
  {
   "cell_type": "code",
   "execution_count": null,
   "metadata": {
    "scrolled": false
   },
   "outputs": [],
   "source": [
    "data=[go.Bar(x=df[\"Gender\"].value_counts().index,\n",
    "            y=df[\"Gender\"].value_counts().values)]\n",
    "layout = go.Layout(\n",
    "    autosize=False,\n",
    "    width=500,\n",
    "    height=400,\n",
    "    xaxis=dict(\n",
    "        title='Gender'),\n",
    "    yaxis=dict(\n",
    "        title='#samples'\n",
    "    ))\n",
    "\n",
    "fig = go.Figure(data=data, layout=layout)\n",
    "fig"
   ]
  },
  {
   "cell_type": "markdown",
   "metadata": {},
   "source": [
    "The total number of women and men is almost the same. But we could observe below what is the distribution of users distinctly for each sex."
   ]
  },
  {
   "cell_type": "code",
   "execution_count": null,
   "metadata": {
    "scrolled": true
   },
   "outputs": [],
   "source": [
    "gender_cannabis_df = df.groupby([\"Gender\", \"Cannabis\"]).size().unstack()\n",
    "print(gender_cannabis_df)"
   ]
  },
  {
   "cell_type": "code",
   "execution_count": null,
   "metadata": {
    "scrolled": false
   },
   "outputs": [],
   "source": [
    "fig2=go.Figure(data=[\n",
    "    go.Bar( x=gender_cannabis_df.index, y=gender_cannabis_df[0]),\n",
    "    go.Bar( x=gender_cannabis_df.index, y=gender_cannabis_df[1])])\n",
    "\n",
    "fig2.show()"
   ]
  },
  {
   "cell_type": "markdown",
   "metadata": {},
   "source": [
    "From the study made on sex vs target we underline that the use is more frequent in men than in women.\n",
    "This shows that we should incorporate the gender into our further analysis, because it could be help to predict if a partecipant is a user of cannabis."
   ]
  },
  {
   "cell_type": "markdown",
   "metadata": {},
   "source": [
    "Next, we look at the cannabis distribution per level of education, to see how much the education influences our target:"
   ]
  },
  {
   "cell_type": "code",
   "execution_count": null,
   "metadata": {
    "scrolled": true
   },
   "outputs": [],
   "source": [
    "education_cannabis_df = df.groupby([\"Education\", \"Cannabis\"]).size().unstack()#.sort_values(ascending=False)\n",
    "print(education_cannabis_df)"
   ]
  },
  {
   "cell_type": "code",
   "execution_count": null,
   "metadata": {
    "scrolled": false
   },
   "outputs": [],
   "source": [
    "fig3=go.Figure(data=[\n",
    "    go.Bar( x=education_cannabis_df.index, y=education_cannabis_df[0]),\n",
    "    go.Bar( x=education_cannabis_df.index, y=education_cannabis_df[1])])\n",
    "\n",
    "fig3.show()"
   ]
  },
  {
   "cell_type": "markdown",
   "metadata": {},
   "source": [
    "From the histogram we have just shown, we couldn't really understand the relationship between the level of education and the use of the drug. We could think that if a person hasn't got ah high level of education is mainly predisposed to be a consumer, but this is not true. In fact the highest proportion of users is given by the sample of people who went to the college but they don't complete the studies. "
   ]
  },
  {
   "cell_type": "markdown",
   "metadata": {},
   "source": [
    "Next, we look at the cannabis distribution per country, to see how much the state influences our target:"
   ]
  },
  {
   "cell_type": "code",
   "execution_count": null,
   "metadata": {
    "scrolled": false
   },
   "outputs": [],
   "source": [
    "data=[go.Bar(x=df[\"Country\"].value_counts().index,\n",
    "            y=df[\"Country\"].value_counts().values)]\n",
    "layout = go.Layout(\n",
    "    autosize=False,\n",
    "    width=500,\n",
    "    height=400,\n",
    "    xaxis=dict(\n",
    "        title='Country'),\n",
    "    yaxis=dict(\n",
    "        title='#samples'\n",
    "    ))\n",
    "\n",
    "fig = go.Figure(data=data, layout=layout)\n",
    "fig"
   ]
  },
  {
   "cell_type": "markdown",
   "metadata": {},
   "source": [
    "The majority of people considered in our analysis come from UK and USA: more than 1600 samples on a total of 1885 persons. This could be a problem: we couldn't understand the behaviours of the people in a specific country due to the low number of samples who has that specific origin."
   ]
  },
  {
   "cell_type": "code",
   "execution_count": null,
   "metadata": {
    "scrolled": true
   },
   "outputs": [],
   "source": [
    "country_cannabis_df = df.groupby([\"Country\", \"Cannabis\"]).size().unstack()\n",
    "print(country_cannabis_df)"
   ]
  },
  {
   "cell_type": "code",
   "execution_count": null,
   "metadata": {
    "scrolled": false
   },
   "outputs": [],
   "source": [
    "fig4=go.Figure(data=[\n",
    "    go.Bar( x=country_cannabis_df.index, y=country_cannabis_df[0]),\n",
    "    go.Bar( x=country_cannabis_df.index, y=country_cannabis_df[1])])\n",
    "\n",
    "fig4.show()"
   ]
  },
  {
   "cell_type": "markdown",
   "metadata": {},
   "source": [
    "For all the countries, except for the UK, there are more cannabis users than cannabis non users. \n",
    "It's really impressive how the number of users in UK is low: less than 1/3 of the sample taken in UK is a cannabis user."
   ]
  },
  {
   "cell_type": "markdown",
   "metadata": {},
   "source": [
    "Let's see the relationship between the ethnicity of a person and his inclination to be or not to be a cannabis user."
   ]
  },
  {
   "cell_type": "code",
   "execution_count": null,
   "metadata": {},
   "outputs": [],
   "source": [
    "data=[go.Bar(x=df[\"Ethnicity\"].value_counts().index,\n",
    "            y=df[\"Ethnicity\"].value_counts().values)]\n",
    "layout = go.Layout(\n",
    "    autosize=False,\n",
    "    width=500,\n",
    "    height=400,\n",
    "    xaxis=dict(\n",
    "        title='Ethnicity'),\n",
    "    yaxis=dict(\n",
    "        title='#samples'\n",
    "    ))\n",
    "\n",
    "fig = go.Figure(data=data, layout=layout)\n",
    "fig"
   ]
  },
  {
   "cell_type": "code",
   "execution_count": null,
   "metadata": {},
   "outputs": [],
   "source": [
    "ethnicity_cannabis_df = df.groupby([\"Ethnicity\", \"Cannabis\"]).size().unstack()\n",
    "print(ethnicity_cannabis_df)"
   ]
  },
  {
   "cell_type": "code",
   "execution_count": null,
   "metadata": {},
   "outputs": [],
   "source": [
    "fig4=go.Figure(data=[\n",
    "    go.Bar( x=ethnicity_cannabis_df.index, y=ethnicity_cannabis_df[0]),\n",
    "    go.Bar( x=ethnicity_cannabis_df.index, y=ethnicity_cannabis_df[1])])\n",
    "\n",
    "fig4.show()"
   ]
  },
  {
   "cell_type": "markdown",
   "metadata": {},
   "source": [
    "The majority of the samples in our dataset belongs to the white ethnicity.\\\n",
    "We are not going to consider in our analysis the ethnicity factor due to the imbalance of white people.\n"
   ]
  },
  {
   "cell_type": "markdown",
   "metadata": {},
   "source": [
    "The following interactive graph shows the distribution of each psycological feature for cannabis user or cannabis non user.\\\n",
    "The slider can be used to switch between the different features."
   ]
  },
  {
   "cell_type": "code",
   "execution_count": null,
   "metadata": {
    "scrolled": true
   },
   "outputs": [],
   "source": [
    "level_0_df = df[df[\"Cannabis\"] == 0]\n",
    "level_1_df= df[df[\"Cannabis\"] == 1]"
   ]
  },
  {
   "cell_type": "code",
   "execution_count": null,
   "metadata": {
    "scrolled": true
   },
   "outputs": [],
   "source": [
    "def create_level_0_hist(col, visible=False):   \n",
    "    return go.Histogram(\n",
    "        x=level_0_df[col],\n",
    "        name='level_0',\n",
    "        visible=visible,\n",
    "    )\n",
    "\n",
    "def create_level_1_hist(col, visible=False):\n",
    "    return go.Histogram(\n",
    "        x=level_1_df[col],\n",
    "        name='level_1',\n",
    "        visible = visible,\n",
    "    )"
   ]
  },
  {
   "cell_type": "code",
   "execution_count": null,
   "metadata": {
    "scrolled": false
   },
   "outputs": [],
   "source": [
    "features = [x for x in sub_df.columns if x != 'Cannabis']\n",
    "active_idx = 0\n",
    "traces_level_0= [(create_level_0_hist(col) if i != active_idx else create_level_0_hist(col, visible=True)) \n",
    "                 for i, col in enumerate(features)]\n",
    "traces_level_1= [(create_level_1_hist(col) if i != active_idx else create_level_1_hist(col, visible=True))\n",
    "                 for i, col in enumerate(features)]\n",
    "\n",
    "\n",
    "data =traces_level_0 + traces_level_1 \n",
    "\n",
    "n_features = len(features)\n",
    "steps = []\n",
    "\n",
    "for i in range(n_features):\n",
    "    step = dict(\n",
    "        method = 'restyle',  \n",
    "        args = ['visible', [False] * len(data)],\n",
    "        label = features[i],\n",
    "    )\n",
    "    step['args'][1][i] = True \n",
    "    step['args'][1][i + n_features] = True \n",
    "    steps.append(step)\n",
    "\n",
    "sliders = [dict(\n",
    "    active = active_idx,\n",
    "    currentvalue = dict(\n",
    "        prefix = \"Feature: \", \n",
    "        xanchor= 'center',\n",
    "    ),\n",
    "    pad = {\"t\": 50},\n",
    "    steps = steps,\n",
    ")]\n",
    "\n",
    "layout = dict(\n",
    "    sliders=sliders,\n",
    "    yaxis=dict(\n",
    "        title='#samples',\n",
    "        automargin=True,\n",
    "    ),\n",
    ")\n",
    "\n",
    "fig = go.Figure(data=data, layout=layout)\n",
    "fig\n",
    "\n",
    "\n",
    "\n"
   ]
  },
  {
   "cell_type": "markdown",
   "metadata": {},
   "source": [
    "We can clearly see that the person with a higher value of Oscore is more likely a cannabis user. In fact Oscore is 'openness to experience' that means that a person with a high level of openness to experience in a personality test enjoys trying new things.\\\n",
    "Also high level of impulsiveness involves a highest probability of use of cannabis.\n",
    "One interesting graph is of the feature \"SS\" (Sensation seeking): the higher our senses are, the more predisposed we are to be consumer.\\\n",
    "Interestingly, this does not apply to Nscore where individuals who scores high on neuroticism are more likely than average to be moody and to experience such feelings as anxiety, fear, anger, frustration, jealousy, guilt, depressed mood, and loneliness.\\\n",
    "Instead an high level of Cscore implies most likely that the partecipant is not a cannabis user because the conscientiousness usually is releted to self-discipline.\\\n",
    "From these graphs it seems that the levels of Nscore, Escore and Ascore are not influent."
   ]
  },
  {
   "cell_type": "markdown",
   "metadata": {},
   "source": [
    "Next, we take a look at the box plots for each feature. A box plot visualizes the following statistics:\n",
    "<ul>\n",
    "<li>the <strong>median</strong></li>\n",
    "<li>the <strong>first quartile (Q1)</strong> and the <strong>third quartile (Q3)</strong> building the interquartile range (IQR)</li>\n",
    "<li>the <strong>lower fence (Q1 - 1.5 IQR)</strong> and the <strong>upper fence (Q3 + 1.5 IQR)</strong></li>\n",
    "    <li>the <strong>maximum</strong> and the <strong>minimum</strong> value</li>\n",
    "</ul>\n",
    "We obtain the same results from the boxplots below."
   ]
  },
  {
   "cell_type": "code",
   "execution_count": null,
   "metadata": {
    "scrolled": true
   },
   "outputs": [],
   "source": [
    "def create_level_0_trace(col, visible=False):   \n",
    "    return go.Box(\n",
    "        y=level_0_df[col],\n",
    "        name='level_0',\n",
    "        visible=visible,\n",
    "    )\n",
    "\n",
    "def create_level_1_trace(col, visible=False):\n",
    "    return go.Box(\n",
    "        y=level_1_df[col],\n",
    "        name='level_1',\n",
    "        visible = visible,\n",
    "    )\n"
   ]
  },
  {
   "cell_type": "code",
   "execution_count": 7,
   "metadata": {
    "scrolled": false
   },
   "outputs": [
    {
     "ename": "NameError",
     "evalue": "name 'sub_df' is not defined",
     "output_type": "error",
     "traceback": [
      "\u001b[0;31m---------------------------------------------------------------------------\u001b[0m",
      "\u001b[0;31mNameError\u001b[0m                                 Traceback (most recent call last)",
      "\u001b[0;32m<ipython-input-7-19939b1388e7>\u001b[0m in \u001b[0;36m<module>\u001b[0;34m\u001b[0m\n\u001b[0;32m----> 1\u001b[0;31m \u001b[0mfeatures\u001b[0m \u001b[0;34m=\u001b[0m \u001b[0;34m[\u001b[0m\u001b[0mx\u001b[0m \u001b[0;32mfor\u001b[0m \u001b[0mx\u001b[0m \u001b[0;32min\u001b[0m \u001b[0msub_df\u001b[0m\u001b[0;34m.\u001b[0m\u001b[0mcolumns\u001b[0m\u001b[0;34m]\u001b[0m\u001b[0;34m\u001b[0m\u001b[0;34m\u001b[0m\u001b[0m\n\u001b[0m\u001b[1;32m      2\u001b[0m \u001b[0mactive_idx\u001b[0m \u001b[0;34m=\u001b[0m \u001b[0;36m0\u001b[0m\u001b[0;34m\u001b[0m\u001b[0;34m\u001b[0m\u001b[0m\n\u001b[1;32m      3\u001b[0m traces_level_0= [(create_level_0_trace(col) if i != active_idx else create_level_0_trace(col, visible=True)) \n\u001b[1;32m      4\u001b[0m                  for i, col in enumerate(features)]\n\u001b[1;32m      5\u001b[0m traces_level_1 = [(create_level_1_trace(col) if i != active_idx else create_level_1_trace(col, visible=True)) \n",
      "\u001b[0;31mNameError\u001b[0m: name 'sub_df' is not defined"
     ]
    }
   ],
   "source": [
    "features = [x for x in sub_df.columns]\n",
    "active_idx = 0\n",
    "traces_level_0= [(create_level_0_trace(col) if i != active_idx else create_level_0_trace(col, visible=True)) \n",
    "                 for i, col in enumerate(features)]\n",
    "traces_level_1 = [(create_level_1_trace(col) if i != active_idx else create_level_1_trace(col, visible=True)) \n",
    "                  for i, col in enumerate(features)]\n",
    "\n",
    "\n",
    "data = traces_level_0 + traces_level_1 \n",
    "\n",
    "n_features = len(features)\n",
    "steps = []\n",
    "for i in range(n_features):\n",
    "    step = dict(\n",
    "        method = 'restyle',  \n",
    "        args = ['visible', [False] * len(data)],\n",
    "        label = features[i],\n",
    "    )\n",
    "    step['args'][1][i] = True \n",
    "    step['args'][1][i + n_features] = True\n",
    "    steps.append(step)\n",
    "\n",
    "sliders = [dict(\n",
    "    active = active_idx,\n",
    "    currentvalue = dict(\n",
    "        prefix = \"Feature: \", \n",
    "        xanchor= 'center',\n",
    "    ),\n",
    "    pad = {\"t\": 50},\n",
    "    steps = steps,\n",
    ")]\n",
    "\n",
    "layout = dict(\n",
    "    sliders=sliders,\n",
    "    yaxis=dict(\n",
    "        title='#samples',\n",
    "        automargin=True,\n",
    "    ),\n",
    ")\n",
    "\n",
    "fig = go.Figure(data=data, layout=layout)\n",
    "fig"
   ]
  },
  {
   "cell_type": "markdown",
   "metadata": {},
   "source": [
    "Now we observe how some personality traits, the impulsivity and the sensation seeking influece the samples of partecipant for each level of education.\\\n",
    "We are going to understand if there is a factor in people who goes to the college or university but who doesn't have the degree which causes the elevate use of cannabis."
   ]
  },
  {
   "cell_type": "code",
   "execution_count": null,
   "metadata": {
    "scrolled": false
   },
   "outputs": [],
   "source": [
    "df_by_Education=df.iloc[df.sort_values(by='Education').index , :]\n",
    "px.box(df, x=df_by_Education.Education, y=df.Oscore, color=df.Cannabis)"
   ]
  },
  {
   "cell_type": "markdown",
   "metadata": {},
   "source": [
    "There isn't a correlation between the openness of experience and the level of education. Instead there is a positive correlation between the openness of experience and the use of cannabis."
   ]
  },
  {
   "cell_type": "markdown",
   "metadata": {},
   "source": [
    "We can observe some interesting thing:\\\n",
    "-consider a person who left school before 16 years but who doesn't use cannabis. He statistically has a Cscore's median higher that other people, so it means that he is self deciplinate.\\\n",
    "-consider a person who has a doctorate degree but who use cannabis. He has a Cscore's median lower that other people."
   ]
  },
  {
   "cell_type": "code",
   "execution_count": null,
   "metadata": {
    "scrolled": false
   },
   "outputs": [],
   "source": [
    "px.box(df, x=df_by_Education.Education, y=df.Impulsive, color=df.Cannabis)"
   ]
  },
  {
   "cell_type": "markdown",
   "metadata": {},
   "source": [
    "We can conclude that there is not a relationship between the level of education and the level of different personality traits."
   ]
  },
  {
   "cell_type": "markdown",
   "metadata": {},
   "source": [
    "We are going to understand if there is a factor in UK people which make sure that there is such a disproportion between non users and users.\\\n",
    "We see that belonging to a distinctive country isn't a factor that influences the use of cannabis."
   ]
  },
  {
   "cell_type": "code",
   "execution_count": null,
   "metadata": {
    "scrolled": false
   },
   "outputs": [],
   "source": [
    "px.box(df, x=df.Country, y=df.Impulsive, color=df.Cannabis)"
   ]
  },
  {
   "cell_type": "code",
   "execution_count": null,
   "metadata": {},
   "outputs": [],
   "source": [
    "px.box(df, x=df.Country, y=df.Oscore, color=df.Cannabis)"
   ]
  },
  {
   "cell_type": "markdown",
   "metadata": {},
   "source": [
    "It's also reasonable to think that the origin (country, ethnicity) or the education of a person don't influence the use of cannabis. As seen also in our previous analysis, the level of education, the origin and the ethnicity of the partecipant seem not to be so relevant overall."
   ]
  },
  {
   "cell_type": "code",
   "execution_count": null,
   "metadata": {
    "scrolled": false
   },
   "outputs": [],
   "source": [
    "features = [x for x in sub2_df.columns if x != 'Cannabis']\n",
    "active_idx = 0\n",
    "traces_level_0= [(create_level_0_hist(col) if i != active_idx else create_level_0_hist(col, visible=True)) \n",
    "                 for i, col in enumerate(features)]\n",
    "traces_level_1= [(create_level_1_hist(col) if i != active_idx else create_level_1_hist(col, visible=True))\n",
    "                 for i, col in enumerate(features)]\n",
    "\n",
    "\n",
    "data =traces_level_0 + traces_level_1 \n",
    "\n",
    "n_features = len(features)\n",
    "steps = []\n",
    "\n",
    "for i in range(n_features):\n",
    "    step = dict(\n",
    "        method = 'restyle',  \n",
    "        args = ['visible', [False] * len(data)],\n",
    "        label = features[i],\n",
    "    )\n",
    "    step['args'][1][i] = True \n",
    "    step['args'][1][i + n_features] = True \n",
    "    steps.append(step)\n",
    "\n",
    "sliders = [dict(\n",
    "    active = active_idx,\n",
    "    currentvalue = dict(\n",
    "        prefix = \"Feature: \", \n",
    "        xanchor= 'center',\n",
    "    ),\n",
    "    pad = {\"t\": 50},\n",
    "    steps = steps,\n",
    ")]\n",
    "\n",
    "layout = dict(\n",
    "    sliders=sliders,\n",
    "    yaxis=dict(\n",
    "        title='#samples',\n",
    "        automargin=True,\n",
    "    ),\n",
    ")\n",
    "\n",
    "fig = go.Figure(data=data, layout=layout)\n",
    "fig\n"
   ]
  },
  {
   "cell_type": "markdown",
   "metadata": {},
   "source": [
    "As we could imagine the consume of legal drugs like alcohol, coffee and chocolate is irrelevant in the analysis of cannabis consumption.\\\n",
    "Instead, if a person is a user of amphetamines/ benzodiazepine/ cokaine/ ecstacy/ legal highs or nicotine more likely this person is a cannabis user."
   ]
  },
  {
   "cell_type": "markdown",
   "metadata": {},
   "source": [
    "A possible way to compute correlation is using the Pearson correlation, which solves the problem of normalization.\n",
    "\n",
    "Now we consider only the numerical variables."
   ]
  },
  {
   "cell_type": "code",
   "execution_count": null,
   "metadata": {
    "scrolled": true
   },
   "outputs": [],
   "source": [
    "df_drop=df.drop(columns=['Age', 'Gender', 'Education', 'Country', 'Ethnicity'])"
   ]
  },
  {
   "cell_type": "markdown",
   "metadata": {},
   "source": [
    "In order to investigate the pair-wise correlations between two variables $X$ and $Y$, we use the Pearson correlation.\\\n",
    "Let $σ_X$,$σ_Y$ be the standard deviation of $X$,$Y$ and $cov(X,Y)=E[(X−E[X])(Y−E[Y])]$. Then we can define the Pearson correlation as the following:\n",
    ">$ρ_{(X,Y)}=\\frac{cov(X,Y)}{σ_Xσ_Y}$\n",
    "\n",
    "To visualize these correlations we use a heatmap plot, in which high correlations are coloured more to the blue and lower ones more to the ice light blue."
   ]
  },
  {
   "cell_type": "code",
   "execution_count": null,
   "metadata": {
    "scrolled": false
   },
   "outputs": [],
   "source": [
    "corr = df_drop.corr()\n",
    "colorscale=[[0, '#edf8fb'], [0.3, '#b3cde3'], [0.6, '#8856a7'], [1, '#810f7c']]\n",
    "trace = go.Heatmap(z=corr.values.tolist(), x=corr.columns, y=corr.columns, colorscale=colorscale)\n",
    "data=[trace]\n",
    "layout = go.Layout(\n",
    "    title='Heatmap of pairwise correlation of the columns',\n",
    "    autosize=False,\n",
    "    width=850,\n",
    "    height=700,\n",
    "    yaxis=go.layout.YAxis(automargin=True),\n",
    "    xaxis=dict(tickangle=40),\n",
    "    margin=go.layout.Margin(l=0, r=200, b=200, t=80)\n",
    ")\n",
    "\n",
    "\n",
    "fig = go.Figure(data=data, layout=layout)\n",
    "iplot(fig, filename='labelled-heatmap1')"
   ]
  },
  {
   "cell_type": "markdown",
   "metadata": {},
   "source": [
    "We can see a high correlation between all the drugs except for caffeine, chocolate and alcohol. Probably, the tendency to use an illegal drug is correlated to the use of an other drug.\\\n",
    "The use of cannabis is highly correlated with all the illegal drugs but in particular it's very linked to the use of legal highs, mushrooms, LSD and ecstasy. The psycological factors that influece mostly the use of cannabis are the sensation seeking with a correlation of 0.44 and the openness to experience with 0.39, as well as the impulsiveness. How seen previously, we can observe that the use of cannabis has a negative correlation with the level of conscientiousness, -0.27.\\\n",
    "Instead caffeine, chocolate and alcohol have got a low correlation with each attribute. It makes sense that these last substances haven't a relationship with the use of the others drugs. \\\n",
    "Nicotine and legal highs are partially correlated with the use of cannabis, with both correlation equal to 0.52. Also mushrooms and ecstasy are highly correlated with cannabis. \\\n",
    "The sensation seeking and the impulsiveness are positively correleted each other, whereas the neuroticism and the extraversion, which indicates how outgoing and social a person is, are negatively correleted each other.\n",
    "\n",
    "\n",
    "We would like to reduce the dimensionality of our dataset we can identify and remove duplicate features according to their pairwise correlation with others. For this, we conduct a clustering of the features using agglomerative hierarchical clustering with average linkage.\\\n",
    "This method starts by creating one cluster for each feature and by computing the pairwise distance/dissimilarity/similarity between all the clusters, which in our case is the correlation. Then it select the two clusters with the highest average correlation to be merged. In the next iteration, the next pair of clusters is selected to be merged. This process is repeated until we end up with one cluster.\n",
    "\n",
    "To visualize the clustering process a dendrogram is shown in the following:"
   ]
  },
  {
   "cell_type": "code",
   "execution_count": null,
   "metadata": {
    "scrolled": false
   },
   "outputs": [],
   "source": [
    "names = df_drop.columns\n",
    "inverse_correlation = 1 - abs(df_drop.corr())\n",
    "fig = ff.create_dendrogram(inverse_correlation.values, orientation='left',\n",
    "                           labels=names, colorscale=colors, linkagefun=lambda x: hc.linkage(x, 'average'))\n",
    "fig['layout'].update(dict(\n",
    "    title=\"Dendrogram of clustering the features according to correlation\",\n",
    "    width=800, \n",
    "    height=600,\n",
    "    margin=go.layout.Margin(l=180, r=50),\n",
    "    xaxis=dict(\n",
    "        title='distance',\n",
    "    ),\n",
    "    yaxis=dict(\n",
    "        title='features',\n",
    "        automargin=True,\n",
    "    ),\n",
    "))\n",
    "iplot(fig)"
   ]
  },
  {
   "cell_type": "markdown",
   "metadata": {},
   "source": [
    "There aren't feature pairs at a very low distance, so we can't removed any feature to reduce the dataset.\n",
    "\n",
    "The clades are arranged according to how similar (or dissimilar) they are. Clades that are close to the same height are similar to each other. You can measure similarity in many different ways, one of the most popular measures is Pearson’s Correlation Coefficient.\\\n",
    "The leaves more similar to Cannabis are Legal Highs, Ecstasy and Coke, followed by all the under illegal drugs. This cluster is linked to the one, which leaves are Impulsivness, Sensation Seeking and Openness to experience.\\\n",
    "We could observe the same results that we saw previously: the feature that are really distant from the cannabis, thus irrelevant in our analysis, are the use of alcohol,chocolate and caffeine.\n"
   ]
  },
  {
   "cell_type": "markdown",
   "metadata": {},
   "source": [
    "# 3 ASSOCIATION RULES"
   ]
  },
  {
   "cell_type": "markdown",
   "metadata": {},
   "source": [
    "Now we analyze the links between the use of different drugs.\n",
    "\n",
    "Association rules allow us to assess what drugs are being used together. To analyze association rules, a subset of just the drug variables are seperated from the clean dataset. Alcohol, chocolate and caffeine were removed as those are commonly consumed items. Several drug associations are evident in the graphs and charts."
   ]
  },
  {
   "cell_type": "markdown",
   "metadata": {},
   "source": [
    "Association rules are created by searching data for frequent if-then patterns and using the criteria support and confidence to identify the most important relationships. "
   ]
  },
  {
   "cell_type": "code",
   "execution_count": null,
   "metadata": {
    "scrolled": true
   },
   "outputs": [],
   "source": [
    "df_cat=sub2_df.drop(columns=['Choc','Alcohol','Caff'])\n",
    "#print(sub2_df.head())\n",
    "print(df_cat.head())"
   ]
  },
  {
   "cell_type": "markdown",
   "metadata": {},
   "source": [
    "Apriori Algorithm is used to gain insight into the structured relationships between different items involved. \n",
    "The output is a data frame with the support for each itemsets."
   ]
  },
  {
   "cell_type": "markdown",
   "metadata": {},
   "source": [
    "The <strong>support</strong> is an indication of how frequently the items appear in the data.\\\n",
    "Thus the frequency in our dataset of amphetamine's users is around 0.23. The frequency of people who use amphetamine and cannabis together is 0.21."
   ]
  },
  {
   "cell_type": "code",
   "execution_count": null,
   "metadata": {
    "scrolled": false
   },
   "outputs": [],
   "source": [
    "\n",
    "from mlxtend.frequent_patterns import apriori, association_rules\n",
    "\n",
    "freq_items = apriori(df_cat, min_support=0.2, use_colnames=True, verbose=1)\n",
    "freq_items"
   ]
  },
  {
   "cell_type": "markdown",
   "metadata": {},
   "source": [
    "The <strong>confidence</strong> of an association rule is a percentage value that shows how frequently the rule head occurs among all the groups containing the rule body. The confidence value indicates how reliable this rule is.\n",
    "\n",
    "The <strong>lift</strong> is the ratio of these values: target response divided by average response.\n",
    "<ul>\n",
    "<li>If the rule had a lift of 1, it would imply that the probability of occurrence of the antecedent and that of the consequent are independent of each other. When two events are independent of each other, no rule can be drawn involving those two events.</li>\n",
    "<li>If the lift is > 1, that lets us know the degree to which those two occurrences are dependent on one another, and makes those rules potentially useful for predicting the consequent in future data sets.</li>\n",
    "<li>If the lift is < 1, that lets us know the items are substitute to each other. This means that presence of one item has negative effect on presence of other item and vice versa. </li>"
   ]
  },
  {
   "cell_type": "code",
   "execution_count": null,
   "metadata": {
    "scrolled": false
   },
   "outputs": [],
   "source": [
    "rules = association_rules(freq_items, metric=\"confidence\", min_threshold=0.5)\n",
    "rules = rules.sort_values(['confidence', 'lift'], ascending =[False, False])\n",
    "rules"
   ]
  },
  {
   "cell_type": "markdown",
   "metadata": {},
   "source": [
    "For example, the rule $(Ecstasy, Nicotine)  -> (Cannabis)$ would indicate that if a person uses ecstasy and nicotine together, he is likely to also use cannabis. \\\n",
    "The frequency of all the three substance together is around to 0.22.\n",
    "This rule has a confidence value equal to 0.944700, which means that 94.5% of the times a person is user of ecstasy and nicotine, cannabis is used as well.\\\n",
    "The lift is always  > 1, so there is an high association between the antecedents and the consequents in every single rule. In fact we have already observed an high correlation between the use of different drugs.\\\n",
    "Clearly the mainly consequents are the cannabis and the nicotine, the most accessible substances in the sub-dataset 'df_cat' analized."
   ]
  },
  {
   "cell_type": "markdown",
   "metadata": {},
   "source": [
    "# 4 CLASSIFICATION\n",
    "\n",
    "We focus now our attention on the creation of a statistical model in order to be able to predict the qualitative value of the variable of interest “target”, based on the value of a set of predictors. This technique is commonly called classification because it involves assigning the observation to a category or class. When we build a classifier we have to define a set of training observations for the implementation of the model and a set of test observations used to deduce how good it is.\n",
    "\n",
    "We are going to use some classifiers by which we can know the effect of particular drug in the people. In simple words, we can know how many people are addicted to a particular drug based on these classifications.\n"
   ]
  },
  {
   "cell_type": "markdown",
   "metadata": {},
   "source": [
    "First of all, we introduce the Label Encoder class to convert this kind of categorical text data into model-understandable numerical data. LabelEncoder is a utility class to help normalize labels such that they contain only values between 0 and n_classes-1. This approach is very simple and it involves converting each value in a column to a number. \\\n",
    "Label encoding induces a new problem since it uses number sequencing. The problem using the number is that they introduce relation/comparison between them. For example, apparently there is no relation between various level of education, but the algorithm might misunderstand that data has some kind of hierarchy/order 0 < 1 < 2 … < 6 and might give 6X more weight to ‘New Zealand’ in calculation then than ‘UK’."
   ]
  },
  {
   "cell_type": "code",
   "execution_count": null,
   "metadata": {
    "scrolled": true
   },
   "outputs": [],
   "source": [
    "df.Country.unique()\n"
   ]
  },
  {
   "cell_type": "markdown",
   "metadata": {},
   "source": [
    "So we have to drop the variables which could have this kind of problem. "
   ]
  },
  {
   "cell_type": "code",
   "execution_count": null,
   "metadata": {
    "scrolled": true
   },
   "outputs": [],
   "source": [
    "df_drop2=df.drop(columns=[ 'Education', 'Country', 'Ethnicity'])\n",
    "X = df_drop2.values\n",
    "\n",
    "labelencoder_X = LabelEncoder()\n",
    "X[:,0] = labelencoder_X.fit_transform(X[:,0])\n",
    "X[:,1] = labelencoder_X.fit_transform(X[:,1])\n",
    "X[:,2] = labelencoder_X.fit_transform(X[:,2])\n",
    "X[:,3] = labelencoder_X.fit_transform(X[:,3])\n",
    "X[:,4] = labelencoder_X.fit_transform(X[:,4])\n",
    "X[:,5] = labelencoder_X.fit_transform(X[:,5])\n",
    "X[:,6] = labelencoder_X.fit_transform(X[:,6])\n",
    "X[:,7] = labelencoder_X.fit_transform(X[:,7])\n",
    "X[:,8] = labelencoder_X.fit_transform(X[:,8])\n",
    "\n",
    "X_df=pd.DataFrame(X,columns=['Age', 'Gender', 'Nscore',\n",
    "       'Escore', 'Oscore', 'Ascore', 'Cscore', 'Impulsive', 'SS', 'Alcohol',\n",
    "       'Amphet', 'Benzos', 'Caff', 'Cannabis', 'Choc', 'Coke', 'Ecstasy',\n",
    "       'Legalh', 'LSD', 'Mushrooms', 'Nicotine'])\n"
   ]
  },
  {
   "cell_type": "code",
   "execution_count": null,
   "metadata": {
    "scrolled": false
   },
   "outputs": [],
   "source": [
    "X_df"
   ]
  },
  {
   "cell_type": "markdown",
   "metadata": {},
   "source": [
    "Now we have an encoded dataset.\n",
    "\n",
    "We define as 'labels' the values we want to predict. We remove the labels from the features"
   ]
  },
  {
   "cell_type": "code",
   "execution_count": null,
   "metadata": {
    "scrolled": true
   },
   "outputs": [],
   "source": [
    "labels = np.array(df['Cannabis'])\n",
    "# axis 1 refers to the columns\n",
    "features= X_df.drop(columns=['Cannabis'], axis = 1)\n",
    "# Saving feature names for later use\n",
    "feature_list = list(X_df.columns)\n",
    "# Convert to numpy array\n",
    "features = np.array(features)"
   ]
  },
  {
   "cell_type": "markdown",
   "metadata": {},
   "source": [
    "'train_test_split' is a function in Sklearn model selection for splitting data arrays into two subsets: for training data and for testing data. By default, Sklearn train_test_split will make random partitions for the two subsets. "
   ]
  },
  {
   "cell_type": "code",
   "execution_count": null,
   "metadata": {
    "scrolled": true
   },
   "outputs": [],
   "source": [
    "# Using Skicit-learn to split data into training and testing sets\n",
    "from sklearn.model_selection import train_test_split\n",
    "# Split the data into training and testing sets\n",
    "train_features, test_features, train_labels, test_labels = train_test_split(features, \n",
    "                                                                            labels, test_size = 0.2, random_state = SEED)"
   ]
  },
  {
   "cell_type": "code",
   "execution_count": null,
   "metadata": {
    "scrolled": false
   },
   "outputs": [],
   "source": [
    "print('Training Features Shape:', train_features.shape)\n",
    "print('Training Labels Shape:', train_labels.shape)\n",
    "print('Testing Features Shape:', test_features.shape)\n",
    "print('Testing Labels Shape:', test_labels.shape)"
   ]
  },
  {
   "cell_type": "code",
   "execution_count": null,
   "metadata": {
    "scrolled": true
   },
   "outputs": [],
   "source": [
    "def plot_confusion_matrix(cm,\n",
    "                          target_names,\n",
    "                          title='Confusion matrix',\n",
    "                          cmap=None,\n",
    "                          normalize=True):\n",
    "    \"\"\"\n",
    "    given a sklearn confusion matrix (cm), make a nice plot\n",
    "\n",
    "    Arguments\n",
    "    ---------\n",
    "    cm:           confusion matrix from sklearn.metrics.confusion_matrix\n",
    "\n",
    "    target_names: given classification classes such as [0, 1, 2]\n",
    "                  the class names, for example: ['high', 'medium', 'low']\n",
    "\n",
    "    title:        the text to display at the top of the matrix\n",
    "\n",
    "    cmap:         the gradient of the values displayed from matplotlib.pyplot.cm\n",
    "                  see http://matplotlib.org/examples/color/colormaps_reference.html\n",
    "                  plt.get_cmap('jet') or plt.cm.Blues\n",
    "\n",
    "    normalize:    If False, plot the raw numbers\n",
    "                  If True, plot the proportions\n",
    "\n",
    "    Usage\n",
    "    -----\n",
    "    plot_confusion_matrix(cm           = cm,                  # confusion matrix created by\n",
    "                                                              # sklearn.metrics.confusion_matrix\n",
    "                          normalize    = True,                # show proportions\n",
    "                          target_names = y_labels_vals,       # list of names of the classes\n",
    "                          title        = best_estimator_name) # title of graph\n",
    "\n",
    "    Citiation\n",
    "    ---------\n",
    "    http://scikit-learn.org/stable/auto_examples/model_selection/plot_confusion_matrix.html\n",
    "\n",
    "    \"\"\"\n",
    "    import matplotlib.pyplot as plt\n",
    "    import numpy as np\n",
    "    import itertools\n",
    "\n",
    "    accuracy = np.trace(cm) / float(np.sum(cm))\n",
    "    misclass = 1 - accuracy\n",
    "\n",
    "    if cmap is None:\n",
    "        cmap = plt.get_cmap('Blues')\n",
    "\n",
    "    plt.figure(figsize=(8, 6))\n",
    "    plt.imshow(cm, interpolation='nearest', cmap=cmap)\n",
    "    plt.title(title)\n",
    "    plt.colorbar()\n",
    "\n",
    "    if target_names is not None:\n",
    "        tick_marks = np.arange(len(target_names))\n",
    "        plt.xticks(tick_marks, target_names, rotation=45)\n",
    "        plt.yticks(tick_marks, target_names)\n",
    "\n",
    "    if normalize:\n",
    "        cm = cm.astype('float') / cm.sum(axis=1)[:, np.newaxis]\n",
    "\n",
    "\n",
    "    thresh = cm.max() / 1.5 if normalize else cm.max() / 2\n",
    "    for i, j in itertools.product(range(cm.shape[0]), range(cm.shape[1])):\n",
    "        if normalize:\n",
    "            plt.text(j, i, \"{:0.4f}\".format(cm[i, j]),\n",
    "                     horizontalalignment=\"center\",\n",
    "                     color=\"white\" if cm[i, j] > thresh else \"black\")\n",
    "        else:\n",
    "            plt.text(j, i, \"{:,}\".format(cm[i, j]),\n",
    "                     horizontalalignment=\"center\",\n",
    "                     color=\"white\" if cm[i, j] > thresh else \"black\")\n",
    "\n",
    "\n",
    "    plt.tight_layout()\n",
    "    plt.ylabel('True label')\n",
    "    plt.xlabel('Predicted label\\naccuracy={:0.4f}; misclass={:0.4f}'.format(accuracy, misclass))\n",
    "    plt.show()"
   ]
  },
  {
   "cell_type": "code",
   "execution_count": null,
   "metadata": {
    "scrolled": true
   },
   "outputs": [],
   "source": [
    "def print_results(test_labels, test_labels_pred):\n",
    "\n",
    "\n",
    "    conf_mat = metrics.confusion_matrix(test_labels, test_labels_pred)\n",
    "\n",
    "    TP = conf_mat[1, 1]\n",
    "    TN = conf_mat[0, 0]\n",
    "    FP = conf_mat[0, 1]\n",
    "    FN = conf_mat[1, 0]\n",
    "\n",
    "    #print(classification_report(test_labels, test_labels_pred))\n",
    "    \n",
    "    plot_confusion_matrix(cm           = conf_mat, \n",
    "                      normalize    = False,\n",
    "                      target_names = ['0', '1'],\n",
    "                      title        = \"Confusion Matrix\")\n",
    "    \n",
    "    \n",
    "    Type_I_error = (FP/len(test_labels))\n",
    "    print(\"I type error is %.3f.\" % Type_I_error)\n",
    "    Type_II_error = (FN/len(test_labels))\n",
    "    print(\"II type error is %.3f.\" % Type_II_error)"
   ]
  },
  {
   "cell_type": "code",
   "execution_count": null,
   "metadata": {
    "scrolled": true
   },
   "outputs": [],
   "source": [
    "def results(classifier, classifier_names, test_features,test_labels):\n",
    "    recalls = []\n",
    "    precision = []\n",
    "    results_table = pd.DataFrame(columns=[\"accuracy\", \"precision\", \"recall\", \"f1\"])\n",
    "    for (i, clf), name in zip(enumerate(classifier), classifier_names):\n",
    "        test_labels_pred = clf.predict(test_features)\n",
    "        row = []\n",
    "        row.append(accuracy_score(test_labels, test_labels_pred))\n",
    "        row.append(precision_score(test_labels, test_labels_pred))\n",
    "        row.append(recall_score(test_labels, test_labels_pred))\n",
    "        row.append(f1_score(test_labels, test_labels_pred))\n",
    "        row = [\"%.3f\" % r for r in row]\n",
    "        results_table.loc[name] = row\n",
    "\n",
    "    return results_table"
   ]
  },
  {
   "cell_type": "code",
   "execution_count": null,
   "metadata": {
    "scrolled": true
   },
   "outputs": [],
   "source": [
    "def plot_roc_curve(classifiers, legend, title, X_test, y_test):\n",
    "    trace1 = go.Scatter(\n",
    "        x=[0, 1], \n",
    "        y=[0, 1], \n",
    "        showlegend=False,\n",
    "        mode=\"lines\",\n",
    "        name=\"\",\n",
    "        line = dict(\n",
    "            color = colors[0],\n",
    "        ),\n",
    "    )\n",
    "    \n",
    "    data = [trace1]\n",
    "    aucs = []\n",
    "    for clf, string, c in zip(classifiers, legend, colors[1:]):\n",
    "        y_test_roc = np.array([([0, 1] if y else [1, 0]) for y in y_test])\n",
    "        y_score = clf.predict_proba(X_test)\n",
    "        \n",
    "        # Compute ROC curve and ROC area for each class\n",
    "        fpr = dict()\n",
    "        tpr = dict()\n",
    "        roc_auc = dict()\n",
    "        for i in range(2):\n",
    "            fpr[i], tpr[i], _ = roc_curve(y_test_roc[:, i], y_score[:, i])\n",
    "            roc_auc[i] = auc(fpr[i], tpr[i])\n",
    "\n",
    "        # Compute micro-average ROC curve and ROC area\n",
    "        fpr[\"micro\"], tpr[\"micro\"], _ = roc_curve(y_test_roc.ravel(), y_score.ravel())\n",
    "        roc_auc[\"micro\"] = auc(fpr[\"micro\"], tpr[\"micro\"])\n",
    "        #aucs.append(roc_auc['micro'])\n",
    "\n",
    "        trace = go.Scatter(\n",
    "            x=fpr['micro'], \n",
    "            y=tpr['micro'], \n",
    "            showlegend=True,\n",
    "            mode=\"lines\",\n",
    "            name=string + \" (area = %0.3f)\" % roc_auc['micro'],\n",
    "            hoverlabel = dict(\n",
    "                namelength=30\n",
    "            ),\n",
    "            line = dict(\n",
    "                color = c,\n",
    "            ),\n",
    "        )\n",
    "        data.append(trace)\n",
    "\n",
    "    layout = go.Layout(\n",
    "        title=title,\n",
    "        autosize=False,\n",
    "        width=550,\n",
    "        height=550,\n",
    "        yaxis=dict(\n",
    "            title='True Positive Rate',\n",
    "        ),\n",
    "        xaxis=dict(\n",
    "            title=\"False Positive Rate\",\n",
    "        ),\n",
    "        legend=dict(\n",
    "            x=0.4,\n",
    "            y=0.06,\n",
    "        ),\n",
    "    )\n",
    "    fig = go.Figure(data=data, layout=layout)\n",
    "    return  iplot(fig, filename=title) #aucs,"
   ]
  },
  {
   "cell_type": "code",
   "execution_count": null,
   "metadata": {
    "scrolled": true
   },
   "outputs": [],
   "source": [
    "def plot_learning_curve(estimator, title, X, y, axes=None, ylim=None, cv=None,\n",
    "                        n_jobs=-1, train_sizes=np.linspace(.1, 1.0, 5)):\n",
    "    if axes is None:\n",
    "        _, axes = plt.subplots(figsize=(10, 5))\n",
    "\n",
    "    axes.set_title(title)\n",
    "    if ylim is not None:\n",
    "        axes.set_ylim(*ylim)\n",
    "    axes.set_xlabel(\"Training examples\")\n",
    "    axes.set_ylabel(\"Score\")\n",
    "\n",
    "    train_sizes, train_scores, test_scores, fit_times, _ = \\\n",
    "        learning_curve(estimator, X, y, cv=cv, n_jobs=n_jobs,\n",
    "                       train_sizes=train_sizes,\n",
    "                       return_times=True)\n",
    "    train_scores_mean = np.mean(train_scores, axis=1)\n",
    "    train_scores_std = np.std(train_scores, axis=1)\n",
    "    test_scores_mean = np.mean(test_scores, axis=1)\n",
    "    test_scores_std = np.std(test_scores, axis=1)\n",
    "    fit_times_mean = np.mean(fit_times, axis=1)\n",
    "    fit_times_std = np.std(fit_times, axis=1)\n",
    "\n",
    "    # Plot learning curve\n",
    "    axes.grid()\n",
    "    axes.fill_between(train_sizes, train_scores_mean - train_scores_std,\n",
    "                         train_scores_mean + train_scores_std, alpha=0.1,\n",
    "                         color=\"r\")\n",
    "    axes.fill_between(train_sizes, test_scores_mean - test_scores_std,\n",
    "                         test_scores_mean + test_scores_std, alpha=0.1,\n",
    "                         color=\"g\")\n",
    "    axes.plot(train_sizes, train_scores_mean, 'o-', color=\"r\",\n",
    "                 label=\"Training score\")\n",
    "    axes.plot(train_sizes, test_scores_mean, 'o-', color=\"g\",\n",
    "                 label=\"Test score\")\n",
    "    axes.legend(loc=\"best\")\n",
    "\n",
    "    # Plot n_samples vs fit_times\n",
    "    #axes[1].grid()\n",
    "    #axes[1].plot(train_sizes, fit_times_mean, 'o-')\n",
    "    #axes[1].fill_between(train_sizes, fit_times_mean - fit_times_std,\n",
    "    #                     fit_times_mean + fit_times_std, alpha=0.1)\n",
    "    #axes[1].set_xlabel(\"Training examples\")\n",
    "    #axes[1].set_ylabel(\"fit_times\")\n",
    "    #axes[1].set_title(\"Scalability of the model\")\n",
    "\n",
    "    # Plot fit_time vs score\n",
    "    #axes[2].grid()\n",
    "    #axes[2].plot(fit_times_mean, test_scores_mean, 'o-')\n",
    "    #axes[2].fill_between(fit_times_mean, test_scores_mean - test_scores_std,\n",
    "    #                     test_scores_mean + test_scores_std, alpha=0.1)\n",
    "    #axes[2].set_xlabel(\"fit_times\")\n",
    "    #axes[2].set_ylabel(\"Score\")\n",
    "    #axes[2].set_title(\"Performance of the model\")\n",
    "\n",
    "    return plt\n"
   ]
  },
  {
   "cell_type": "code",
   "execution_count": null,
   "metadata": {
    "scrolled": true
   },
   "outputs": [],
   "source": [
    "def gridsearch_cv(clf, params, X_train, y_train, cv, smote=None):\n",
    "\n",
    "    if smote is None:\n",
    "        pipeline = Pipeline([('clf', clf)])\n",
    "    else:\n",
    "        pipeline = Pipeline([('sm', sm), ('clf', clf)])\n",
    "        \n",
    "    gs = GridSearchCV(pipeline, params, cv=kf, n_jobs=-1, scoring='f1', return_train_score=True)\n",
    "    gs.fit(X_train, y_train)\n",
    "    return gs"
   ]
  },
  {
   "cell_type": "code",
   "execution_count": null,
   "metadata": {
    "scrolled": true
   },
   "outputs": [],
   "source": [
    "sm = SMOTE(random_state=SEED)\n",
    "kf = StratifiedKFold(n_splits=5)\n",
    "RANDOM_FOREST_PARAMS = {\n",
    "    'clf__max_depth': [25, 50, 75],\n",
    "    'clf__max_features': [\"sqrt\"], # just sqrt is used because values of log2 and sqrt are very similar for our number of features (10-19) \n",
    "    'clf__criterion': ['gini', 'entropy'],\n",
    "    'clf__n_estimators': [100, 300, 500, 1000]\n",
    "}\n",
    "\n",
    "DECISION_TREE_PARAMS = {\n",
    "    'clf__max_depth': [25, 50, 75],\n",
    "    'clf__max_features': [\"sqrt\"], # just sqrt is used because values of log2 and sqrt are very similar for our number of features (10-19)\n",
    "    'clf__criterion': ['gini', 'entropy'],\n",
    "    'clf__min_samples_split': [6, 10, 14],\n",
    "}\n",
    "\n",
    "LOGISTIC_REGRESSION_PARAMS = {\n",
    "    'clf__solver': ['liblinear'],\n",
    "    'clf__C': [0.1, 1, 10],\n",
    "    'clf__penalty': ['l2', 'l1']\n",
    "}\n",
    "\n",
    "KNN_PARAMS = {\n",
    "    'clf__n_neighbors': [5, 15, 25, 35, 45, 55, 65],\n",
    "    'clf__weights': ['uniform', 'distance'],\n",
    "    'clf__p': [1, 2, 10]\n",
    "}\n",
    "\n",
    "SVM_PARAMS = [\n",
    "{\n",
    "    'clf__kernel': ['linear'],\n",
    "    'clf__C': [0.1, 1, 10],\n",
    "}, \n",
    "{\n",
    "    'clf__kernel': ['rbf'],\n",
    "    'clf__C': [0.01, 0.1, 1, 10, 100],\n",
    "    'clf__gamma': [0.01, 0.1, 1, 10, 100],\n",
    "}]\n",
    "   "
   ]
  },
  {
   "cell_type": "markdown",
   "metadata": {},
   "source": [
    "First of all we have to introduce the confusion matrix. A confusion matrix is a table that is often used to describe the performance of a classification model on a set of test data for which the true values are known.\n",
    "In the context of confusion matrix, we have to name:\n",
    "<ul>\n",
    "<li><strong>True Positives (TP)</strong>: These are cases in which we predicted yes and are actually yes. In our case is when we predicted '1', the person is a user of cannabis, and is actually '1'.</li>\n",
    "<li><strong>True Negatives (TN)</strong>: We predicted no, and no in actual. Here no stands for '0', so the tester is not a user and we predicted the same result.</li>\n",
    "<li><strong>False Positives (FP)</strong>: We predicted yes (the person is a user), but actual is no (actually is not a user). (Type I error)</li>\n",
    "<li><strong>False Negatives (FN)</strong>: We predicted no, yes in actual. (Type II error)</li>\n",
    "</ul>"
   ]
  },
  {
   "cell_type": "markdown",
   "metadata": {},
   "source": [
    "Now we can introduce several evalutation metric to compare the performance of the different classification model:\n",
    "\n",
    "The most widely-used metric for model evaluation is the <strong>accuracy</strong>, defined as: $\\frac{TP + TN}{TP + TN + FP + FN}$ .\n",
    "\n",
    "The <strong>precision</strong> is the ratio $\\frac{TP }{TP + FP}$. The precision is intuitively the ability of the classifier to not label a sample as positive if it is negative.\n",
    "\n",
    "The <strong>recall</strong> is the ratio $\\frac{TP }{TP + FN}$. The recall is intuitively the ability of the classifier to find all the positive samples.\n",
    "\n",
    "The <strong>f-β score</strong> can be interpreted as a weighted harmonic mean of the precision and recall, where an f-β score reaches its best value at 1 and worst score at 0. The f-β score weights the recall more than the precision by a factor of beta. If β = 1.0 means recall and precision are equally important. \n"
   ]
  },
  {
   "cell_type": "markdown",
   "metadata": {},
   "source": [
    "Hyper-parameter is a type of parameter for a machine learning model whose value is set before the model training process starts.\\\n",
    "Every classifier has a set of hyperparameters, which can be tuned by training the classifier with different values for these hyperparameters and selecting the classifier with the best score. There is still a risk of overfitting on the test set because we are using informations of the test data to select some training hyperparameters. To solve this problem, yet another part of the dataset can be held out as a so-called “validation set”: training proceeds on the training set, after which evaluation is done on the validation set, and when the experiment seems to be successful, final evaluation can be done on the test set. By partitioning the available data into three sets, we drastically reduce the number of samples. A solution to this problem is a procedure called cross-validation (CV for short). A test set should still be held out for final evaluation, but the validation set is no longer needed when doing CV. In the basic approach, called k-fold CV, the training set is split into k smaller sets.\\\n",
    "The following procedure is followed for each of the k “folds”:\n",
    "<ul>\n",
    "<li>we train our classifier on different unions of k-1 subsets and calculate its score on the subset which was not used for training;</li>\n",
    "<li>the resulting model is validated on the remaining part of the data (i.e., it is used as a test set to compute a performance measure such as accuracy);</li>\n",
    "<li>the final score is calculated by averaging the score of each iteration.</li>\n",
    "</ul>\n",
    "In our case the score is the f1-Score defined as $f_1 = 2×\\frac{precision×recall}{precision+recall}$ .\n",
    "\n",
    "To do this analysis, we use the sklearn.model_selection.GridSearchCV object, to which we pass a classifier, a dictionary of hyperparameters with values and a k-fold object. For a good trade-off between runtime and accuracy of the score we choose k=5. We will pick the best configuration of the parameter_grid for the model according to f1-Score and using a cross validation with k=5 partitions.\n"
   ]
  },
  {
   "cell_type": "markdown",
   "metadata": {},
   "source": [
    "# 4.1 Logistic Regression"
   ]
  },
  {
   "cell_type": "markdown",
   "metadata": {},
   "source": [
    "Logistic Regression is a classification algorithm that is used to predict the probability of a categorical dependent variable. In logistic regression, the dependent variable is a binary variable that contains data coded as 1 (yes, success, etc.) or 0 (no, failure, etc.). In other words, the logistic regression model predicts $p(Y=1)$ as a function of $X$.\\\n",
    "We know that the objective of our model is to predict the value of the response variable on the basis of the set of predictors $X$. If we have a binary qualitative response we use the model to define probabilities $p(X)$ and then, defining an appropriate threshold, we can compute the response variable. In case of linear regression it could happen that some of the estimates are out of the range $[0,1]$ making hard to interpret those values as probabilities. For this reason in case of binary response we use the logistic function\n",
    "\n",
    ">$p(X)=\\frac{\\exp(β_0+β_1X) }{ 1+\\exp(β_0+β_1X)}$\n",
    "\n",
    "where the coefficients $β_0$ and $β_1$ are estimated using the maximum likelihood method on the training data. When we apply the model then we consider that\n",
    "\n",
    "$Y=1$   if  $p(X) ≥ 0.5 $\\\n",
    "$Y=0$   otherwise\n",
    "\n",
    "These concepts can ben easily generalized in case of multiple predictors as follows:\n",
    "\n",
    ">$p(X)=\\frac{\\exp{(β_0+β_1X_1+⋯+β_pX_p)}}{1+\\exp{(β_0+β_1X_1+⋯+β_pX_p)}}$\n",
    "\n",
    "After this initial theoretical recall we apply the logistic regression on our dataset."
   ]
  },
  {
   "cell_type": "markdown",
   "metadata": {},
   "source": [
    "The hyperparameters of a logistic regression include the following ones, which can be passed to the LogisticRegression of sklearn.linear_model:\n",
    "<ul>\n",
    "<li>penalty: the norm used for penalization (default='l2')</li>\n",
    "<li>C: the inverse of the regularization strength(default=1.0)</li>\n",
    "<li>solver: {‘newton-cg’, ‘lbfgs’, ‘liblinear’, ‘sag’, ‘saga’}, (default=lbfgs)</li>\n",
    "</ul>"
   ]
  },
  {
   "cell_type": "code",
   "execution_count": null,
   "metadata": {
    "scrolled": true
   },
   "outputs": [],
   "source": [
    "lr_clf = gridsearch_cv(LogisticRegression(random_state=SEED), LOGISTIC_REGRESSION_PARAMS, train_features, train_labels, kf, smote=sm)"
   ]
  },
  {
   "cell_type": "markdown",
   "metadata": {},
   "source": [
    "The best parameters configuration can be found with the attribute ' best_params_ ' of the gridsearch object."
   ]
  },
  {
   "cell_type": "code",
   "execution_count": null,
   "metadata": {
    "scrolled": false
   },
   "outputs": [],
   "source": [
    "print(\"Logistic Regression: \" + str(lr_clf.best_params_))"
   ]
  },
  {
   "cell_type": "code",
   "execution_count": null,
   "metadata": {
    "scrolled": true
   },
   "outputs": [],
   "source": [
    "test_labels_pred = lr_clf.predict(test_features)"
   ]
  },
  {
   "cell_type": "code",
   "execution_count": null,
   "metadata": {
    "scrolled": true
   },
   "outputs": [],
   "source": [
    "# save confusion matrix and slice into four pieces\n",
    "conf_mat = metrics.confusion_matrix(test_labels, test_labels_pred)\n",
    "\n",
    "TP = conf_mat[1, 1]\n",
    "TN = conf_mat[0, 0]\n",
    "FP = conf_mat[0, 1]\n",
    "FN = conf_mat[1, 0]\n",
    "TP,TN,FP,FN\n",
    "print('True Positive = %i' % (TP))\n",
    "print('True Negative = %i' % (TN))\n",
    "print('False Positive = %i' % (FP))\n",
    "print('False Negative = %i' % (FN))"
   ]
  },
  {
   "cell_type": "code",
   "execution_count": null,
   "metadata": {},
   "outputs": [],
   "source": [
    "plot_confusion_matrix(cm           = conf_mat, \n",
    "                      normalize    = True,\n",
    "                      target_names = ['0', '1'],\n",
    "                      title        = \"Confusion Matrix\")"
   ]
  },
  {
   "cell_type": "markdown",
   "metadata": {},
   "source": [
    " In the output, 178 and 145 are actual predictions, and 16 and 38 are incorrect predictions."
   ]
  },
  {
   "cell_type": "markdown",
   "metadata": {},
   "source": [
    "The confusion matrix of the Logistic Regression shows that the probability to predict the correct class is with 0.90 and 0.86 similar for both classes. This means that the Logistic Regression has just a slight bias towards predicting a person as non user.\\\n",
    "It is important also to consider if there is a greater number of false negative or false positive occurrences. We remember that in our case 1 is associated to users people so false positive (pred:1, true:0 - I type error) means that users have been predicted as non users, while false negative (pred:0, true:1 - II type error) refers to users predicted as non users. Both the errors represent a problem for our model, but from our point of view false negative are more dangerous."
   ]
  },
  {
   "cell_type": "code",
   "execution_count": null,
   "metadata": {
    "scrolled": true
   },
   "outputs": [],
   "source": [
    "Type_I_error = (FP/len(test_labels))\n",
    "print(\"I type error is %.3f\" % Type_I_error)"
   ]
  },
  {
   "cell_type": "code",
   "execution_count": null,
   "metadata": {
    "scrolled": true
   },
   "outputs": [],
   "source": [
    "Type_II_error = (FN/len(test_labels))\n",
    "print(\"II type error is %.3f.\" % Type_II_error)"
   ]
  },
  {
   "cell_type": "markdown",
   "metadata": {},
   "source": [
    "Here we have the results of the metrics used by us for the Logistic Regression model."
   ]
  },
  {
   "cell_type": "code",
   "execution_count": null,
   "metadata": {
    "scrolled": true
   },
   "outputs": [],
   "source": [
    "classifier=[lr_clf]\n",
    "classifier_name=['Logistic Regression']"
   ]
  },
  {
   "cell_type": "code",
   "execution_count": null,
   "metadata": {
    "scrolled": true
   },
   "outputs": [],
   "source": [
    "results(classifier, classifier_name,test_features,test_labels)"
   ]
  },
  {
   "cell_type": "markdown",
   "metadata": {},
   "source": [
    "We obtain good values for this model; the precision is around 92%, which means that when it predicts a person to be a user, it is in 92% of the cases correct."
   ]
  },
  {
   "cell_type": "markdown",
   "metadata": {},
   "source": [
    "A learning curve shows the relationship of the training score versus the cross validated test score, in our case the f1-Score, for an estimator with a varying number of training samples. This visualization is typically used to show two things:\n",
    "<ul>\n",
    "<li>How much the estimator benefits from more data (e.g. do we have “enough data” or will the estimator get better if used in an online fashion).</li>\n",
    "<li>If the estimator is more sensitive to error due to variance vs. error due to bias.</li>\n",
    "</ul>\n",
    "The curves are plotted with the mean scores, however variability during cross-validation is shown with the shaded areas that represent a standard deviation above and below the mean for all cross-validations. If the model suffers from error due to bias, then there will likely be more variability around the training score curve. If the model suffers from error due to variance, then there will be more variability around the cross validated score."
   ]
  },
  {
   "cell_type": "code",
   "execution_count": null,
   "metadata": {
    "scrolled": false
   },
   "outputs": [],
   "source": [
    "plot_learning_curve(lr_clf.best_estimator_, \"Learning Curve of Logistic Regression\", train_features, train_labels, cv=5)"
   ]
  },
  {
   "cell_type": "markdown",
   "metadata": {},
   "source": [
    "The training score and the test score are almost the same at the end. However, the shape of the curve can be found in more complex datasets very often: the training score doesn't change a lot its value, instead the cross-validation score is low at the beginning and increases. Now we consider the gap as the difference between the training and validation error: the bigger the difference between the two scores, the bigger the gap. The bigger the gap, the bigger the variance. In our case, the gap is very narrow, so we can safely conclude that the variance is low.\n",
    "The training and test scores converge together as more data is added, then the model will probably not benefit from more data."
   ]
  },
  {
   "cell_type": "markdown",
   "metadata": {},
   "source": [
    "Another way to compare our model with the others is the <strong>Area Under the Receiver Operating Characteristic curve (AUC)</strong>.\\\n",
    "We have to define the following two metrics:\n",
    "<ul>\n",
    "<li><strong>True positive rate (TPR)</strong>: this is the same as the recall: $FPR = recall = \\frac{TP}{FN+TP}$</li>\n",
    "<li><strong>False positive rate (FPR)</strong>: this corresponds to the proportion of negative data points that are mistakenly considered as positive, with respect to all negative data points: $FPR = \\frac{FP}{TN+FP}$</li>\n",
    "</ul>\n",
    "\n",
    "To plot the Receiver Operating Characteristic (ROC) curve we choose a number of different classification thresholds and compute the TPR and the FPR. So the curve shows the trade-off between these two. To combine the TPR and the FPR into one evaluation metric the area under the ROC curve (AUC) is computed.\\\n",
    "To evaluate our classifier, we're going to use an ROC Curve. ROC Curves are great for evaluating binary (0, 1) classification models.\\\n",
    "Receiver Operating Characteristic(ROC) curve is a plot of the true positive rate(Recall) against the false positive rate. It shows the tradeoff between sensitivity and specificity. A ROC Curve plots the False Positive Rate vs. the True Positive Rate for a classifier."
   ]
  },
  {
   "cell_type": "code",
   "execution_count": null,
   "metadata": {
    "scrolled": false
   },
   "outputs": [],
   "source": [
    "plot_roc_curve(classifier, classifier_name, \"ROC curve\", test_features, test_labels)\n"
   ]
  },
  {
   "cell_type": "markdown",
   "metadata": {},
   "source": [
    "AUC score for the case is 0.929. AUC score 1 represents perfect classifier, and 0.5 represents a worthless classifier."
   ]
  },
  {
   "cell_type": "markdown",
   "metadata": {},
   "source": [
    "# 4.2 SVM\n",
    "The Support Vector Machine (SVM) is a supervised machine learning technique that classifies observations according to linear/non-linear decision boundaries. It is widely used in classification problems when data have exactly two classes, like in our case. It is a model that learns to differentiate between data in two categories based on past examples.\n",
    "The simplest version is the SVC which considers a hyperplane that does not perfectly separate the two classes. This is also known as soft margin classifier because the margin can be violated by some of the training observations. We classify the test observation by determining on which side of the hyperplane it lies.\n",
    "The SVM is a generalization of the previous classifier where the boundaries are non-linear. In this case we enlarge the feature space using polynomial kernels.\\\n",
    "A linear Support-Vector Machine (SVM) finds the optimal hyperplane between the points of two classes such that the distance of the nearest points to the decision boundary is maximized. This distance is called margin.\n",
    "\n",
    "The hyperparameters of a SVM include the following ones, which can be passed to the SVC of sklearn.svm:\n",
    "<ul>\n",
    "<li>C: the inverse of the regularization strength (default=1.0)</li>\n",
    "<li>kernel: the kernel used (default='rbf')</li>\n",
    "</ul>"
   ]
  },
  {
   "cell_type": "code",
   "execution_count": null,
   "metadata": {
    "scrolled": true
   },
   "outputs": [],
   "source": [
    "svm_clf = gridsearch_cv(svm.SVC(random_state=SEED, probability=True), SVM_PARAMS, train_features, train_labels, kf, smote=sm)\n",
    "test_labels_pred = svm_clf.predict(test_features)"
   ]
  },
  {
   "cell_type": "markdown",
   "metadata": {},
   "source": [
    "Here we have the best parameters:"
   ]
  },
  {
   "cell_type": "code",
   "execution_count": null,
   "metadata": {
    "scrolled": true
   },
   "outputs": [],
   "source": [
    "print(\"SVM: \" + str(svm_clf.best_params_))"
   ]
  },
  {
   "cell_type": "code",
   "execution_count": null,
   "metadata": {
    "scrolled": true
   },
   "outputs": [],
   "source": [
    "classifier=[svm_clf]\n",
    "classifier_name=['SVM']"
   ]
  },
  {
   "cell_type": "markdown",
   "metadata": {},
   "source": [
    "In the following, the confusion matrix is shown:"
   ]
  },
  {
   "cell_type": "code",
   "execution_count": null,
   "metadata": {
    "scrolled": false
   },
   "outputs": [],
   "source": [
    "print_results(test_labels, test_labels_pred)"
   ]
  },
  {
   "cell_type": "code",
   "execution_count": null,
   "metadata": {
    "scrolled": true
   },
   "outputs": [],
   "source": [
    "results(classifier, classifier_name,test_features,test_labels)"
   ]
  },
  {
   "cell_type": "markdown",
   "metadata": {},
   "source": [
    "All the considered metrics for the SVM model are just a little higher than the ones in the Logistic Regression."
   ]
  },
  {
   "cell_type": "code",
   "execution_count": null,
   "metadata": {
    "scrolled": false
   },
   "outputs": [],
   "source": [
    "plot_learning_curve(svm_clf.best_estimator_, \"Learning Curve of SVM\", train_features, train_labels, cv=5)"
   ]
  },
  {
   "cell_type": "markdown",
   "metadata": {},
   "source": [
    "For the learning curve of the SVM on the training set we can not see a clear trend, but on the test set the score increases with the number of training examples. Trained on all training samples the f1-score on the train set and on the test set is very similar, so the SVM is not overfitting the train data. The model will probably not benefit from more data.\n",
    "\n"
   ]
  },
  {
   "cell_type": "code",
   "execution_count": null,
   "metadata": {
    "scrolled": false
   },
   "outputs": [],
   "source": [
    "plot_roc_curve(classifier, classifier_name, \"ROC curve\", test_features, test_labels)"
   ]
  },
  {
   "cell_type": "markdown",
   "metadata": {},
   "source": [
    "# 4.3 Decision Tree\n",
    "\n",
    "The decision tree is a classification algorithm that constructs a tree-like structure that can be used for choosing between various types of action. We developed the decision tree algorithm based on Gini gain which is a measure of\n",
    "impurity. \n",
    "\n",
    "The hyperparameters of a Decision Tree include the following ones, which can be passed to the DecisionTreeClassifier of sklearn.tree:\n",
    "<ul>\n",
    "<li>criterion: the criterion which decides the feature and the value at the split (default='gini'). The Gini impurity measure is one of the methods used in decision tree algorithms to decide the optimal split from a root node, and subsequent splits. Gini Impurity tells us what is the probability of misclassifying an observation.</li>\n",
    "<li>max_depth: the maximum depth of each tree (default=None)</li>\n",
    "<li>min_samples_split: the minimum number of samples in a node to be considered for further splitting (default=2)</li>"
   ]
  },
  {
   "cell_type": "code",
   "execution_count": null,
   "metadata": {
    "scrolled": true
   },
   "outputs": [],
   "source": [
    "tree_clf = gridsearch_cv(DecisionTreeClassifier(random_state=SEED), \n",
    "                        DECISION_TREE_PARAMS, train_features, train_labels, kf, smote=sm)\n",
    "test_labels_pred = tree_clf.predict(test_features)"
   ]
  },
  {
   "cell_type": "code",
   "execution_count": null,
   "metadata": {
    "scrolled": true
   },
   "outputs": [],
   "source": [
    "print(\"Decision Tree: \" + str(tree_clf.best_params_))"
   ]
  },
  {
   "cell_type": "code",
   "execution_count": null,
   "metadata": {
    "scrolled": true
   },
   "outputs": [],
   "source": [
    "classifier=[tree_clf]\n",
    "classifier_name=['Decision Tree']"
   ]
  },
  {
   "cell_type": "code",
   "execution_count": null,
   "metadata": {
    "scrolled": false
   },
   "outputs": [],
   "source": [
    "print_results(test_labels, test_labels_pred)"
   ]
  },
  {
   "cell_type": "code",
   "execution_count": null,
   "metadata": {
    "scrolled": true
   },
   "outputs": [],
   "source": [
    "results(classifier, classifier_name,test_features,test_labels)"
   ]
  },
  {
   "cell_type": "code",
   "execution_count": null,
   "metadata": {
    "scrolled": false
   },
   "outputs": [],
   "source": [
    "plot_learning_curve(tree_clf.best_estimator_, \"Learning Curve of Decision Tree\", train_features, train_labels, cv=5)"
   ]
  },
  {
   "cell_type": "markdown",
   "metadata": {},
   "source": [
    "The train score of the Decision Tree improves a little with the number of training samples. The test score, however, improves but at the end decreases a bit. Furthermore, the train score is always around 0.1 higher than the test score which means that the Decision Tree is overfitting on the train data."
   ]
  },
  {
   "cell_type": "code",
   "execution_count": null,
   "metadata": {
    "scrolled": false
   },
   "outputs": [],
   "source": [
    "plot_roc_curve(classifier,classifier_name , \"ROC curve\", test_features, test_labels)"
   ]
  },
  {
   "cell_type": "markdown",
   "metadata": {},
   "source": [
    "The Decision Tree class of sklearn also computes an importance value for each feature. This is done by weighting the decrease of impurity at each split by the probability of reaching this node for each node which split involves the feature of interest. Then these weighted decreases of impurity are summed up for each feature and this gives the feature importance."
   ]
  },
  {
   "cell_type": "code",
   "execution_count": null,
   "metadata": {
    "scrolled": true
   },
   "outputs": [],
   "source": [
    "feature_importance = np.array(sorted(zip(X_df.drop(columns=['Cannabis']).columns,\n",
    "                    tree_clf.best_estimator_.named_steps['clf'].feature_importances_), key=lambda x: x[1], reverse=True))\n",
    "\n",
    "[print('Variable: {:20} Importance: {}'.format(*pair)) for pair in feature_importance];"
   ]
  },
  {
   "cell_type": "markdown",
   "metadata": {},
   "source": [
    "We can see that the most important features for the Decision Tree are the Amphetamine, the Legal Hihghs and the Nicotine. These were also found to be correlated with the target variable in the data exploration. The Cscore and the SS are the psycological factors with the highest importance.\n",
    "According to the data analysis just done the features that have less importance are Alcohol, Chocolate and Caffeine. "
   ]
  },
  {
   "cell_type": "markdown",
   "metadata": {},
   "source": [
    "# 4.4 Random Forest\n",
    "\n",
    "We can try to improve our predictive model using random forest technique. Random forest classifier is a meta-estimator that fits a number of decision trees on various sub-samples of datasets and uses average to improve the predictive accuracy of the model and controls over-fitting. The sub-sample size is always the same as the original input sample size but the samples are drawn with replacement. Random forest is based on a procedure for reducing the variance of the statistical learning method. They lose in term of interpretability but usually provide better results.\n"
   ]
  },
  {
   "cell_type": "markdown",
   "metadata": {},
   "source": [
    "The hyperparameters of a random forest include the following ones, which can be passed to the RandomForestClassifier of sklearn.ensemble:\n",
    "<ul>\n",
    "<li>n_estimators: the number of trees</li>\n",
    "<li>criterion: the criterion which decides the feature and the value at the split (default='gini')</li>\n",
    "<li>max_depth: the maximum depth of each tree (default=None)</li>\n",
    "<li>min_samples_split: the minimum number of samples in a node to be considered for further splitting (default=2)</li>\n",
    "<li>max_features: the number of features which are considered for a split (default='sqrt')</li>\n",
    "</ul>"
   ]
  },
  {
   "cell_type": "code",
   "execution_count": null,
   "metadata": {
    "scrolled": true
   },
   "outputs": [],
   "source": [
    "rf_clf = gridsearch_cv(RandomForestClassifier(random_state=SEED),\n",
    "                      RANDOM_FOREST_PARAMS, train_features, train_labels, kf, smote=sm)\n",
    "test_labels_pred = rf_clf.predict(test_features)"
   ]
  },
  {
   "cell_type": "code",
   "execution_count": null,
   "metadata": {
    "scrolled": true
   },
   "outputs": [],
   "source": [
    "print(\"Random Forest: \" + str(rf_clf.best_params_))"
   ]
  },
  {
   "cell_type": "code",
   "execution_count": null,
   "metadata": {
    "scrolled": true
   },
   "outputs": [],
   "source": [
    "classifier=[rf_clf]\n",
    "classifier_name=['Random Forest']"
   ]
  },
  {
   "cell_type": "code",
   "execution_count": null,
   "metadata": {
    "scrolled": false
   },
   "outputs": [],
   "source": [
    "print_results(test_labels, test_labels_pred)"
   ]
  },
  {
   "cell_type": "markdown",
   "metadata": {},
   "source": [
    "The result is telling us that we have 141+187 correct predictions and 29+20 incorrect predictions."
   ]
  },
  {
   "cell_type": "code",
   "execution_count": 8,
   "metadata": {
    "scrolled": true
   },
   "outputs": [
    {
     "ename": "NameError",
     "evalue": "name 'results' is not defined",
     "output_type": "error",
     "traceback": [
      "\u001b[0;31m---------------------------------------------------------------------------\u001b[0m",
      "\u001b[0;31mNameError\u001b[0m                                 Traceback (most recent call last)",
      "\u001b[0;32m<ipython-input-8-02e05e57dff3>\u001b[0m in \u001b[0;36m<module>\u001b[0;34m\u001b[0m\n\u001b[0;32m----> 1\u001b[0;31m \u001b[0mresults\u001b[0m\u001b[0;34m(\u001b[0m\u001b[0mclassifier\u001b[0m\u001b[0;34m,\u001b[0m \u001b[0mclassifier_name\u001b[0m\u001b[0;34m,\u001b[0m\u001b[0mtest_features\u001b[0m\u001b[0;34m,\u001b[0m\u001b[0mtest_labels\u001b[0m\u001b[0;34m)\u001b[0m\u001b[0;34m\u001b[0m\u001b[0;34m\u001b[0m\u001b[0m\n\u001b[0m",
      "\u001b[0;31mNameError\u001b[0m: name 'results' is not defined"
     ]
    }
   ],
   "source": [
    "results(classifier, classifier_name,test_features,test_labels)"
   ]
  },
  {
   "cell_type": "markdown",
   "metadata": {},
   "source": [
    "We can see that in accuracy the Random Forest performs with 0.87 better than the Decision Tree, which achieves 0.82."
   ]
  },
  {
   "cell_type": "code",
   "execution_count": null,
   "metadata": {
    "scrolled": false
   },
   "outputs": [],
   "source": [
    "plot_learning_curve( rf_clf.best_estimator_, \"Learning Curve of Random Forest\", train_features, train_labels, cv=5)"
   ]
  },
  {
   "cell_type": "markdown",
   "metadata": {},
   "source": [
    "It can be seen that the test score of the Random Forest is constant with the number of samples, thus the model is unable to learn from data. The train score is always 1 and shows that also the Random Forest overfits on the data.\\\n",
    "Random Forest reduces variance when compared to Decision Trees. "
   ]
  },
  {
   "cell_type": "code",
   "execution_count": null,
   "metadata": {
    "scrolled": false
   },
   "outputs": [],
   "source": [
    "plot_roc_curve(classifier, classifier_name, \"ROC curve\", test_features, test_labels)"
   ]
  },
  {
   "cell_type": "markdown",
   "metadata": {},
   "source": [
    "The Random Forest provides global feature importance, i.e. an estimate of which features are important in the classification. The feature importances are obtained by computing it for all trees and taking the average. "
   ]
  },
  {
   "cell_type": "code",
   "execution_count": null,
   "metadata": {
    "scrolled": true
   },
   "outputs": [],
   "source": [
    "feature_importance = np.array(sorted(zip(X_df.drop(columns=['Cannabis']).columns,\n",
    "                    rf_clf.best_estimator_.named_steps['clf'].feature_importances_), key=lambda x: x[1], reverse=True))\n",
    "\n",
    "[print('Variable: {:20} Importance: {}'.format(*pair)) for pair in feature_importance];"
   ]
  },
  {
   "cell_type": "markdown",
   "metadata": {},
   "source": [
    "The most important feature for the Random Forest are the Nicotine, the Legal Highs and the Age. The most influent psycological factor is the Oscore.\n",
    "In contrast with the features importance of the Decision Tree, here there are a lot of features that are relevant.\\\n",
    "Chocolate, Alcohol and Caffeine were not found as important as in the Decision Tree."
   ]
  },
  {
   "cell_type": "markdown",
   "metadata": {},
   "source": [
    "# 4.5 K-Nearest Neighbors\n",
    "\n",
    "The K-Nearest Neighbors algorithm (KNN) is a non-parametric method, which considers the K closest training examples to the point of interest for predicting its class. This is done by a simple majority vote over the K closest points.\n"
   ]
  },
  {
   "cell_type": "markdown",
   "metadata": {},
   "source": [
    "The hyperparameters of KNN include the following ones, which can be passed to the KNeighborsClassifier of sklearn.neighbors:\n",
    "<ul>\n",
    "<li>n_neighbors: corresponds to K, the number of nearest neighbors considered for the prediction (default=5)</li>\n",
    "<li>weights:<ul><li>if uniform, then all neighbors have the same weight for the voting (default);</li>\n",
    "<li>if distance, then the votes of the neighbors are weighted by the inverse of the distance for the voting</li></ul></li>\n",
    "<li>p: the power parameter for the Minkowski metric (default=2)</li>\n",
    "</ul>"
   ]
  },
  {
   "cell_type": "code",
   "execution_count": null,
   "metadata": {
    "scrolled": true
   },
   "outputs": [],
   "source": [
    "knn_clf = gridsearch_cv(KNeighborsClassifier(),\n",
    "                      KNN_PARAMS, train_features, train_labels, kf, smote=sm)\n",
    "test_labels_pred = knn_clf.predict(test_features)"
   ]
  },
  {
   "cell_type": "code",
   "execution_count": null,
   "metadata": {
    "scrolled": true
   },
   "outputs": [],
   "source": [
    "print(\"KNN: \" + str(knn_clf.best_params_))"
   ]
  },
  {
   "cell_type": "markdown",
   "metadata": {},
   "source": [
    "Now we evaluate our KNN model:"
   ]
  },
  {
   "cell_type": "code",
   "execution_count": null,
   "metadata": {
    "scrolled": false
   },
   "outputs": [],
   "source": [
    "print_results(test_labels, test_labels_pred)"
   ]
  },
  {
   "cell_type": "markdown",
   "metadata": {},
   "source": [
    "The II type error for the KNN model is the hishest th"
   ]
  },
  {
   "cell_type": "code",
   "execution_count": null,
   "metadata": {
    "scrolled": true
   },
   "outputs": [],
   "source": [
    "classifier=[knn_clf]\n",
    "classifier_name=['KNN']"
   ]
  },
  {
   "cell_type": "code",
   "execution_count": null,
   "metadata": {
    "scrolled": true
   },
   "outputs": [],
   "source": [
    "results(classifier, classifier_name,test_features,test_labels)"
   ]
  },
  {
   "cell_type": "markdown",
   "metadata": {},
   "source": [
    "The accuracy is in this case worst than in the previous model."
   ]
  },
  {
   "cell_type": "code",
   "execution_count": null,
   "metadata": {
    "scrolled": false
   },
   "outputs": [],
   "source": [
    "plot_learning_curve(knn_clf.best_estimator_,\"Learning Curve of KNN\",train_features, train_labels, cv=5)"
   ]
  },
  {
   "cell_type": "markdown",
   "metadata": {},
   "source": [
    "This learning curve shows high test variability the model seems to converge on an f1 score of around 0.83. We can see that the training and test scores have not yet converged, so potentially this model would benefit from more training data.\\\n",
    "Finally, this model suffers primarily from error due to variance (the CV scores for the test data are more variable than for training data) so it is possible that the model is overfitting."
   ]
  },
  {
   "cell_type": "code",
   "execution_count": null,
   "metadata": {
    "scrolled": false
   },
   "outputs": [],
   "source": [
    "plot_roc_curve(classifier, classifier_name, \"ROC curve\", test_features, test_labels)"
   ]
  },
  {
   "cell_type": "markdown",
   "metadata": {},
   "source": [
    "# 5 CONCLUSIONS"
   ]
  },
  {
   "cell_type": "code",
   "execution_count": null,
   "metadata": {
    "scrolled": true
   },
   "outputs": [],
   "source": [
    "classifiers=[lr_clf, svm_clf, tree_clf, rf_clf, knn_clf,clf]\n",
    "classifier_names=['Logistic Regression', 'SVM', 'Decision Tree','Random Forest', 'KNN']"
   ]
  },
  {
   "cell_type": "code",
   "execution_count": null,
   "metadata": {
    "scrolled": true
   },
   "outputs": [],
   "source": [
    "results(classifiers, classifier_names,test_features,test_labels)"
   ]
  },
  {
   "cell_type": "markdown",
   "metadata": {},
   "source": [
    "We obtain good results at all but the KNN classifier is definitely the worst for each measure, except for the precision.\\\n",
    "Moreover, in accuracy the Random Forest performs with 0.87 better than the SVM, which achieves 0.86, and than the Naïve Bayes classifier with 0.85. But in the precision measure the Naïve Bayes classifier has the highest precision: it outperforms with 0.94, the SVM with 0.92 and the Random Forest with 0.90.\n",
    "The Decision Tree even has the highest recall value, but it achieves worst results for the other scores.\n",
    "The SVM and the Decision Tree have with 0.87 the second highest f1-score but is behind the f1-score of 0.88 of the Random Forest."
   ]
  },
  {
   "cell_type": "code",
   "execution_count": null,
   "metadata": {
    "scrolled": false
   },
   "outputs": [],
   "source": [
    "plot_roc_curve(classifiers, classifier_names, \"ROC curve\", test_features, test_labels)"
   ]
  },
  {
   "cell_type": "markdown",
   "metadata": {},
   "source": [
    "The Random Forest classifier has with 0.935 the highest AUC value, followed by the SVM and the Logistic Regression with 0.933 and 0.929, respectively. The Decision Tree and the KNN perform worse with an AUC of just 0.881 and 0.87."
   ]
  },
  {
   "cell_type": "markdown",
   "metadata": {},
   "source": [
    "We have asked whether or not a psychological predisposition to drug consumption exists. Now, we can formulate the answer in brief:\n",
    "<ul>\n",
    "<li>There is a significant difference in the psychological profiles of cannabis users and non-users.</li>\n",
    "<li>The psychological factors which involve a predisposition to using cannabis are the level of openness to experiences, the impulsiveness and the sensation seeking. The factor that is negative correlated with the use of cannabis is the conscientiousness. Our study demonstrates strong correlations between personality profiles and the risk of drug use.</li>\n",
    "<li>We describe the groups of drugs which have correlated use: by the heatmap and the association rules we saw what are the different drugs which use is correlated with the use of cannabis.</li>\n",
    "<li> Drug consumption risk analysis is done successfully with the two algorithms Support Vector Machine and Random forest. It was found that the best performance in accuracy, as well as f1-score and AUC is achieved by the Random Forest. One of the most important predictors for the Random Forest is the nicotine. This means that we have to pay attention to the people who smoke cigarettes, because it seems to be correlated with the use of cannabis. Others important features are the age and the level of openness to experiences.</li>\n",
    "    </ul>\n",
    "Concluding, we suggest to use the Random Forest model to identify potential cannabis users."
   ]
  },
  {
   "cell_type": "code",
   "execution_count": null,
   "metadata": {},
   "outputs": [],
   "source": []
  }
 ],
 "metadata": {
  "kernelspec": {
   "display_name": "Python 3",
   "language": "python",
   "name": "python3"
  },
  "language_info": {
   "codemirror_mode": {
    "name": "ipython",
    "version": 3
   },
   "file_extension": ".py",
   "mimetype": "text/x-python",
   "name": "python",
   "nbconvert_exporter": "python",
   "pygments_lexer": "ipython3",
   "version": "3.8.3"
  }
 },
 "nbformat": 4,
 "nbformat_minor": 4
}
